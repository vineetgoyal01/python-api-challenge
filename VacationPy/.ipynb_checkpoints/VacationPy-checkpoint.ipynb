{
 "cells": [
  {
   "cell_type": "markdown",
   "metadata": {},
   "source": [
    "# VacationPy\n",
    "----\n",
    "\n",
    "#### Note\n",
    "* Instructions have been included for each segment. You do not have to follow them exactly, but they are included to help you think through the steps."
   ]
  },
  {
   "cell_type": "code",
   "execution_count": 1,
   "metadata": {},
   "outputs": [],
   "source": [
    "# Dependencies and Setup\n",
    "import matplotlib.pyplot as plt\n",
    "import pandas as pd\n",
    "import numpy as np\n",
    "import requests\n",
    "import gmaps\n",
    "import os\n",
    "\n",
    "# Import API key\n",
    "from api_keys import g_key\n"
   ]
  },
  {
   "cell_type": "markdown",
   "metadata": {},
   "source": [
    "### Store Part I results into DataFrame\n",
    "* Load the csv exported in Part I to a DataFrame"
   ]
  },
  {
   "cell_type": "code",
   "execution_count": 2,
   "metadata": {},
   "outputs": [
    {
     "data": {
      "text/html": [
       "<div>\n",
       "<style scoped>\n",
       "    .dataframe tbody tr th:only-of-type {\n",
       "        vertical-align: middle;\n",
       "    }\n",
       "\n",
       "    .dataframe tbody tr th {\n",
       "        vertical-align: top;\n",
       "    }\n",
       "\n",
       "    .dataframe thead th {\n",
       "        text-align: right;\n",
       "    }\n",
       "</style>\n",
       "<table border=\"1\" class=\"dataframe\">\n",
       "  <thead>\n",
       "    <tr style=\"text-align: right;\">\n",
       "      <th></th>\n",
       "      <th>Unnamed: 0</th>\n",
       "      <th>City</th>\n",
       "      <th>Latitude</th>\n",
       "      <th>Longitude</th>\n",
       "      <th>Max Temp</th>\n",
       "      <th>Humidity</th>\n",
       "      <th>Cloudiness</th>\n",
       "      <th>Wind Speed</th>\n",
       "      <th>Country</th>\n",
       "      <th>Date</th>\n",
       "    </tr>\n",
       "  </thead>\n",
       "  <tbody>\n",
       "    <tr>\n",
       "      <th>0</th>\n",
       "      <td>0</td>\n",
       "      <td>Vaini</td>\n",
       "      <td>-21.2000</td>\n",
       "      <td>-175.2000</td>\n",
       "      <td>71.56</td>\n",
       "      <td>68</td>\n",
       "      <td>20</td>\n",
       "      <td>14.12</td>\n",
       "      <td>TO</td>\n",
       "      <td>1593788400</td>\n",
       "    </tr>\n",
       "    <tr>\n",
       "      <th>1</th>\n",
       "      <td>1</td>\n",
       "      <td>Atuona</td>\n",
       "      <td>-9.8000</td>\n",
       "      <td>-139.0333</td>\n",
       "      <td>80.56</td>\n",
       "      <td>77</td>\n",
       "      <td>4</td>\n",
       "      <td>25.30</td>\n",
       "      <td>PF</td>\n",
       "      <td>1593788400</td>\n",
       "    </tr>\n",
       "    <tr>\n",
       "      <th>2</th>\n",
       "      <td>2</td>\n",
       "      <td>Poddor'ye</td>\n",
       "      <td>57.4695</td>\n",
       "      <td>31.1156</td>\n",
       "      <td>74.77</td>\n",
       "      <td>46</td>\n",
       "      <td>59</td>\n",
       "      <td>4.79</td>\n",
       "      <td>RU</td>\n",
       "      <td>1593788400</td>\n",
       "    </tr>\n",
       "    <tr>\n",
       "      <th>3</th>\n",
       "      <td>3</td>\n",
       "      <td>Hong Kong</td>\n",
       "      <td>22.2855</td>\n",
       "      <td>114.1577</td>\n",
       "      <td>84.11</td>\n",
       "      <td>82</td>\n",
       "      <td>69</td>\n",
       "      <td>11.83</td>\n",
       "      <td>HK</td>\n",
       "      <td>1593788400</td>\n",
       "    </tr>\n",
       "    <tr>\n",
       "      <th>4</th>\n",
       "      <td>4</td>\n",
       "      <td>Mataura</td>\n",
       "      <td>-46.1927</td>\n",
       "      <td>168.8643</td>\n",
       "      <td>39.99</td>\n",
       "      <td>78</td>\n",
       "      <td>100</td>\n",
       "      <td>6.44</td>\n",
       "      <td>NZ</td>\n",
       "      <td>1593788400</td>\n",
       "    </tr>\n",
       "  </tbody>\n",
       "</table>\n",
       "</div>"
      ],
      "text/plain": [
       "   Unnamed: 0       City  Latitude  Longitude  Max Temp  Humidity  Cloudiness  \\\n",
       "0           0      Vaini  -21.2000  -175.2000     71.56        68          20   \n",
       "1           1     Atuona   -9.8000  -139.0333     80.56        77           4   \n",
       "2           2  Poddor'ye   57.4695    31.1156     74.77        46          59   \n",
       "3           3  Hong Kong   22.2855   114.1577     84.11        82          69   \n",
       "4           4    Mataura  -46.1927   168.8643     39.99        78         100   \n",
       "\n",
       "   Wind Speed Country        Date  \n",
       "0       14.12      TO  1593788400  \n",
       "1       25.30      PF  1593788400  \n",
       "2        4.79      RU  1593788400  \n",
       "3       11.83      HK  1593788400  \n",
       "4        6.44      NZ  1593788400  "
      ]
     },
     "execution_count": 2,
     "metadata": {},
     "output_type": "execute_result"
    }
   ],
   "source": [
    "\n",
    "df = pd.read_csv(\"..\\output_data\\my_weather_data.csv\")\n",
    "\n",
    "df.head()"
   ]
  },
  {
   "cell_type": "markdown",
   "metadata": {},
   "source": [
    "### Humidity Heatmap\n",
    "* Configure gmaps.\n",
    "* Use the Lat and Lng as locations and Humidity as the weight.\n",
    "* Add Heatmap layer to map."
   ]
  },
  {
   "cell_type": "code",
   "execution_count": 3,
   "metadata": {},
   "outputs": [],
   "source": [
    "# Configure gmaps with API key\n",
    "gmaps.configure(api_key=g_key)"
   ]
  },
  {
   "cell_type": "code",
   "execution_count": 4,
   "metadata": {},
   "outputs": [],
   "source": [
    "# Store 'Lat' and 'Lng' into  locations \n",
    "locations = df[[\"Latitude\", \"Longitude\"]].astype(float)\n",
    "\n",
    "humidity_rate = df[\"Humidity\"].astype(float)"
   ]
  },
  {
   "cell_type": "code",
   "execution_count": 5,
   "metadata": {},
   "outputs": [
    {
     "data": {
      "application/vnd.jupyter.widget-view+json": {
       "model_id": "7a8289a0f31444c0bf864d9894cf5a7f",
       "version_major": 2,
       "version_minor": 0
      },
      "text/plain": [
       "Figure(layout=FigureLayout(height='420px'))"
      ]
     },
     "metadata": {},
     "output_type": "display_data"
    },
    {
     "data": {
      "text/plain": [
       "<Figure size 432x288 with 0 Axes>"
      ]
     },
     "metadata": {},
     "output_type": "display_data"
    }
   ],
   "source": [
    "# Create a poverty Heatmap layer\n",
    "fig = gmaps.figure(center=(48.0, 0.0), zoom_level=2)\n",
    "\n",
    "heatmap_layer = gmaps.heatmap_layer(locations, weights=humidity_rate, \n",
    "                                 dissipating=False, max_intensity=100,\n",
    "                                 point_radius = 1, opacity=1)\n",
    "\n",
    "fig.add_layer(heatmap_layer)\n",
    "\n",
    "plt.savefig('..\\output_data\\HeatMap.png')\n",
    "fig"
   ]
  },
  {
   "cell_type": "markdown",
   "metadata": {},
   "source": [
    "### Create new DataFrame fitting weather criteria\n",
    "* Narrow down the cities to fit weather conditions.\n",
    "* Drop any rows will null values."
   ]
  },
  {
   "cell_type": "code",
   "execution_count": 6,
   "metadata": {},
   "outputs": [
    {
     "data": {
      "text/plain": [
       "Unnamed: 0    147\n",
       "City          147\n",
       "Latitude      147\n",
       "Longitude     147\n",
       "Max Temp      147\n",
       "Humidity      147\n",
       "Cloudiness    147\n",
       "Wind Speed    147\n",
       "Country       144\n",
       "Date          147\n",
       "dtype: int64"
      ]
     },
     "execution_count": 6,
     "metadata": {},
     "output_type": "execute_result"
    }
   ],
   "source": [
    "conditional_df = df.loc[df[\"Max Temp\"]<80, :]\n",
    "conditional_df = conditional_df.loc[conditional_df[\"Max Temp\"]>70,:]\n",
    "conditional_df.count()"
   ]
  },
  {
   "cell_type": "code",
   "execution_count": 7,
   "metadata": {},
   "outputs": [
    {
     "data": {
      "text/html": [
       "<div>\n",
       "<style scoped>\n",
       "    .dataframe tbody tr th:only-of-type {\n",
       "        vertical-align: middle;\n",
       "    }\n",
       "\n",
       "    .dataframe tbody tr th {\n",
       "        vertical-align: top;\n",
       "    }\n",
       "\n",
       "    .dataframe thead th {\n",
       "        text-align: right;\n",
       "    }\n",
       "</style>\n",
       "<table border=\"1\" class=\"dataframe\">\n",
       "  <thead>\n",
       "    <tr style=\"text-align: right;\">\n",
       "      <th></th>\n",
       "      <th>Unnamed: 0</th>\n",
       "      <th>City</th>\n",
       "      <th>Latitude</th>\n",
       "      <th>Longitude</th>\n",
       "      <th>Max Temp</th>\n",
       "      <th>Humidity</th>\n",
       "      <th>Cloudiness</th>\n",
       "      <th>Wind Speed</th>\n",
       "      <th>Country</th>\n",
       "      <th>Date</th>\n",
       "    </tr>\n",
       "  </thead>\n",
       "  <tbody>\n",
       "    <tr>\n",
       "      <th>2</th>\n",
       "      <td>2</td>\n",
       "      <td>Poddor'ye</td>\n",
       "      <td>57.4695</td>\n",
       "      <td>31.1156</td>\n",
       "      <td>74.77</td>\n",
       "      <td>46</td>\n",
       "      <td>59</td>\n",
       "      <td>4.79</td>\n",
       "      <td>RU</td>\n",
       "      <td>1593788400</td>\n",
       "    </tr>\n",
       "    <tr>\n",
       "      <th>10</th>\n",
       "      <td>10</td>\n",
       "      <td>Albany</td>\n",
       "      <td>42.6001</td>\n",
       "      <td>-73.9662</td>\n",
       "      <td>73.42</td>\n",
       "      <td>82</td>\n",
       "      <td>96</td>\n",
       "      <td>3.38</td>\n",
       "      <td>US</td>\n",
       "      <td>1593788400</td>\n",
       "    </tr>\n",
       "    <tr>\n",
       "      <th>15</th>\n",
       "      <td>15</td>\n",
       "      <td>Kapaa</td>\n",
       "      <td>22.0752</td>\n",
       "      <td>-159.3190</td>\n",
       "      <td>76.60</td>\n",
       "      <td>78</td>\n",
       "      <td>50</td>\n",
       "      <td>8.05</td>\n",
       "      <td>US</td>\n",
       "      <td>1593788400</td>\n",
       "    </tr>\n",
       "    <tr>\n",
       "      <th>18</th>\n",
       "      <td>18</td>\n",
       "      <td>Carnarvon</td>\n",
       "      <td>-24.8667</td>\n",
       "      <td>113.6333</td>\n",
       "      <td>73.72</td>\n",
       "      <td>63</td>\n",
       "      <td>0</td>\n",
       "      <td>7.20</td>\n",
       "      <td>AU</td>\n",
       "      <td>1593788400</td>\n",
       "    </tr>\n",
       "    <tr>\n",
       "      <th>19</th>\n",
       "      <td>19</td>\n",
       "      <td>Ribeira Grande</td>\n",
       "      <td>38.5167</td>\n",
       "      <td>-28.7000</td>\n",
       "      <td>70.66</td>\n",
       "      <td>80</td>\n",
       "      <td>34</td>\n",
       "      <td>6.13</td>\n",
       "      <td>PT</td>\n",
       "      <td>1593788400</td>\n",
       "    </tr>\n",
       "  </tbody>\n",
       "</table>\n",
       "</div>"
      ],
      "text/plain": [
       "    Unnamed: 0            City  Latitude  Longitude  Max Temp  Humidity  \\\n",
       "2            2       Poddor'ye   57.4695    31.1156     74.77        46   \n",
       "10          10          Albany   42.6001   -73.9662     73.42        82   \n",
       "15          15           Kapaa   22.0752  -159.3190     76.60        78   \n",
       "18          18       Carnarvon  -24.8667   113.6333     73.72        63   \n",
       "19          19  Ribeira Grande   38.5167   -28.7000     70.66        80   \n",
       "\n",
       "    Cloudiness  Wind Speed Country        Date  \n",
       "2           59        4.79      RU  1593788400  \n",
       "10          96        3.38      US  1593788400  \n",
       "15          50        8.05      US  1593788400  \n",
       "18           0        7.20      AU  1593788400  \n",
       "19          34        6.13      PT  1593788400  "
      ]
     },
     "execution_count": 7,
     "metadata": {},
     "output_type": "execute_result"
    }
   ],
   "source": [
    "conditional_df = conditional_df.loc[conditional_df[\"Wind Speed\"]<10,:]\n",
    "conditional_df.head()"
   ]
  },
  {
   "cell_type": "code",
   "execution_count": 8,
   "metadata": {},
   "outputs": [
    {
     "data": {
      "text/html": [
       "<div>\n",
       "<style scoped>\n",
       "    .dataframe tbody tr th:only-of-type {\n",
       "        vertical-align: middle;\n",
       "    }\n",
       "\n",
       "    .dataframe tbody tr th {\n",
       "        vertical-align: top;\n",
       "    }\n",
       "\n",
       "    .dataframe thead th {\n",
       "        text-align: right;\n",
       "    }\n",
       "</style>\n",
       "<table border=\"1\" class=\"dataframe\">\n",
       "  <thead>\n",
       "    <tr style=\"text-align: right;\">\n",
       "      <th></th>\n",
       "      <th>Unnamed: 0</th>\n",
       "      <th>City</th>\n",
       "      <th>Latitude</th>\n",
       "      <th>Longitude</th>\n",
       "      <th>Max Temp</th>\n",
       "      <th>Humidity</th>\n",
       "      <th>Cloudiness</th>\n",
       "      <th>Wind Speed</th>\n",
       "      <th>Country</th>\n",
       "      <th>Date</th>\n",
       "    </tr>\n",
       "  </thead>\n",
       "  <tbody>\n",
       "    <tr>\n",
       "      <th>18</th>\n",
       "      <td>18</td>\n",
       "      <td>Carnarvon</td>\n",
       "      <td>-24.8667</td>\n",
       "      <td>113.6333</td>\n",
       "      <td>73.72</td>\n",
       "      <td>63</td>\n",
       "      <td>0</td>\n",
       "      <td>7.20</td>\n",
       "      <td>AU</td>\n",
       "      <td>1593788400</td>\n",
       "    </tr>\n",
       "    <tr>\n",
       "      <th>155</th>\n",
       "      <td>155</td>\n",
       "      <td>Guerrero Negro</td>\n",
       "      <td>27.9769</td>\n",
       "      <td>-114.0611</td>\n",
       "      <td>72.91</td>\n",
       "      <td>62</td>\n",
       "      <td>0</td>\n",
       "      <td>5.59</td>\n",
       "      <td>MX</td>\n",
       "      <td>1593788400</td>\n",
       "    </tr>\n",
       "    <tr>\n",
       "      <th>173</th>\n",
       "      <td>173</td>\n",
       "      <td>Dekar</td>\n",
       "      <td>-21.5333</td>\n",
       "      <td>21.9333</td>\n",
       "      <td>73.87</td>\n",
       "      <td>20</td>\n",
       "      <td>0</td>\n",
       "      <td>8.14</td>\n",
       "      <td>BW</td>\n",
       "      <td>1593788400</td>\n",
       "    </tr>\n",
       "    <tr>\n",
       "      <th>244</th>\n",
       "      <td>244</td>\n",
       "      <td>Labuhan</td>\n",
       "      <td>-6.8844</td>\n",
       "      <td>112.2051</td>\n",
       "      <td>79.05</td>\n",
       "      <td>80</td>\n",
       "      <td>0</td>\n",
       "      <td>8.66</td>\n",
       "      <td>ID</td>\n",
       "      <td>1593788400</td>\n",
       "    </tr>\n",
       "    <tr>\n",
       "      <th>330</th>\n",
       "      <td>330</td>\n",
       "      <td>Menongue</td>\n",
       "      <td>-14.6585</td>\n",
       "      <td>17.6910</td>\n",
       "      <td>78.12</td>\n",
       "      <td>18</td>\n",
       "      <td>0</td>\n",
       "      <td>8.03</td>\n",
       "      <td>AO</td>\n",
       "      <td>1593788400</td>\n",
       "    </tr>\n",
       "    <tr>\n",
       "      <th>452</th>\n",
       "      <td>452</td>\n",
       "      <td>Thohoyandou</td>\n",
       "      <td>-22.9456</td>\n",
       "      <td>30.4850</td>\n",
       "      <td>73.99</td>\n",
       "      <td>27</td>\n",
       "      <td>0</td>\n",
       "      <td>6.04</td>\n",
       "      <td>ZA</td>\n",
       "      <td>1593788400</td>\n",
       "    </tr>\n",
       "    <tr>\n",
       "      <th>491</th>\n",
       "      <td>491</td>\n",
       "      <td>Obigarm</td>\n",
       "      <td>38.7173</td>\n",
       "      <td>69.7088</td>\n",
       "      <td>76.62</td>\n",
       "      <td>25</td>\n",
       "      <td>0</td>\n",
       "      <td>4.63</td>\n",
       "      <td>TJ</td>\n",
       "      <td>1593788400</td>\n",
       "    </tr>\n",
       "    <tr>\n",
       "      <th>499</th>\n",
       "      <td>499</td>\n",
       "      <td>Moosomin</td>\n",
       "      <td>50.1333</td>\n",
       "      <td>-101.6677</td>\n",
       "      <td>71.35</td>\n",
       "      <td>71</td>\n",
       "      <td>0</td>\n",
       "      <td>4.09</td>\n",
       "      <td>CA</td>\n",
       "      <td>1593788400</td>\n",
       "    </tr>\n",
       "  </tbody>\n",
       "</table>\n",
       "</div>"
      ],
      "text/plain": [
       "     Unnamed: 0            City  Latitude  Longitude  Max Temp  Humidity  \\\n",
       "18           18       Carnarvon  -24.8667   113.6333     73.72        63   \n",
       "155         155  Guerrero Negro   27.9769  -114.0611     72.91        62   \n",
       "173         173           Dekar  -21.5333    21.9333     73.87        20   \n",
       "244         244         Labuhan   -6.8844   112.2051     79.05        80   \n",
       "330         330        Menongue  -14.6585    17.6910     78.12        18   \n",
       "452         452     Thohoyandou  -22.9456    30.4850     73.99        27   \n",
       "491         491         Obigarm   38.7173    69.7088     76.62        25   \n",
       "499         499        Moosomin   50.1333  -101.6677     71.35        71   \n",
       "\n",
       "     Cloudiness  Wind Speed Country        Date  \n",
       "18            0        7.20      AU  1593788400  \n",
       "155           0        5.59      MX  1593788400  \n",
       "173           0        8.14      BW  1593788400  \n",
       "244           0        8.66      ID  1593788400  \n",
       "330           0        8.03      AO  1593788400  \n",
       "452           0        6.04      ZA  1593788400  \n",
       "491           0        4.63      TJ  1593788400  \n",
       "499           0        4.09      CA  1593788400  "
      ]
     },
     "execution_count": 8,
     "metadata": {},
     "output_type": "execute_result"
    }
   ],
   "source": [
    "conditional_df = conditional_df.loc[conditional_df[\"Cloudiness\"]==0,:]\n",
    "conditional_df.head(20)"
   ]
  },
  {
   "cell_type": "code",
   "execution_count": 9,
   "metadata": {},
   "outputs": [],
   "source": [
    "# No null values so no need to drop anything :-) "
   ]
  },
  {
   "cell_type": "markdown",
   "metadata": {},
   "source": [
    "### Hotel Map\n",
    "* Store into variable named `hotel_df`.\n",
    "* Add a \"Hotel Name\" column to the DataFrame.\n",
    "* Set parameters to search for hotels with 5000 meters.\n",
    "* Hit the Google Places API for each city's coordinates.\n",
    "* Store the first Hotel result into the DataFrame.\n",
    "* Plot markers on top of the heatmap."
   ]
  },
  {
   "cell_type": "code",
   "execution_count": 10,
   "metadata": {},
   "outputs": [
    {
     "data": {
      "text/html": [
       "<div>\n",
       "<style scoped>\n",
       "    .dataframe tbody tr th:only-of-type {\n",
       "        vertical-align: middle;\n",
       "    }\n",
       "\n",
       "    .dataframe tbody tr th {\n",
       "        vertical-align: top;\n",
       "    }\n",
       "\n",
       "    .dataframe thead th {\n",
       "        text-align: right;\n",
       "    }\n",
       "</style>\n",
       "<table border=\"1\" class=\"dataframe\">\n",
       "  <thead>\n",
       "    <tr style=\"text-align: right;\">\n",
       "      <th></th>\n",
       "      <th>City</th>\n",
       "      <th>Country</th>\n",
       "      <th>Lat</th>\n",
       "      <th>Lng</th>\n",
       "    </tr>\n",
       "  </thead>\n",
       "  <tbody>\n",
       "    <tr>\n",
       "      <th>18</th>\n",
       "      <td>Carnarvon</td>\n",
       "      <td>AU</td>\n",
       "      <td>-24.8667</td>\n",
       "      <td>113.6333</td>\n",
       "    </tr>\n",
       "    <tr>\n",
       "      <th>155</th>\n",
       "      <td>Guerrero Negro</td>\n",
       "      <td>MX</td>\n",
       "      <td>27.9769</td>\n",
       "      <td>-114.0611</td>\n",
       "    </tr>\n",
       "    <tr>\n",
       "      <th>173</th>\n",
       "      <td>Dekar</td>\n",
       "      <td>BW</td>\n",
       "      <td>-21.5333</td>\n",
       "      <td>21.9333</td>\n",
       "    </tr>\n",
       "    <tr>\n",
       "      <th>244</th>\n",
       "      <td>Labuhan</td>\n",
       "      <td>ID</td>\n",
       "      <td>-6.8844</td>\n",
       "      <td>112.2051</td>\n",
       "    </tr>\n",
       "    <tr>\n",
       "      <th>330</th>\n",
       "      <td>Menongue</td>\n",
       "      <td>AO</td>\n",
       "      <td>-14.6585</td>\n",
       "      <td>17.6910</td>\n",
       "    </tr>\n",
       "  </tbody>\n",
       "</table>\n",
       "</div>"
      ],
      "text/plain": [
       "               City Country      Lat       Lng\n",
       "18        Carnarvon      AU -24.8667  113.6333\n",
       "155  Guerrero Negro      MX  27.9769 -114.0611\n",
       "173           Dekar      BW -21.5333   21.9333\n",
       "244         Labuhan      ID  -6.8844  112.2051\n",
       "330        Menongue      AO -14.6585   17.6910"
      ]
     },
     "execution_count": 10,
     "metadata": {},
     "output_type": "execute_result"
    }
   ],
   "source": [
    "hotel_df = pd.DataFrame()\n",
    "hotel_df['City'] = conditional_df['City']\n",
    "hotel_df['Country'] = conditional_df['Country']\n",
    "hotel_df['Lat'] = conditional_df['Latitude']\n",
    "hotel_df['Lng'] = conditional_df['Longitude']\n",
    "\n",
    "hotel_df.head()"
   ]
  },
  {
   "cell_type": "code",
   "execution_count": 11,
   "metadata": {},
   "outputs": [
    {
     "name": "stdout",
     "output_type": "stream",
     "text": [
      "Retrieving Results for  Carnarvon.\n",
      "Closest hotel to Carnarvon at -24.8667 , 113.6333 is Carnarvon Tyrepower.\n",
      "Retrieving Results for  Guerrero Negro.\n",
      "Closest hotel to Guerrero Negro at 27.9769 , -114.0611 is Empresas Matco.\n",
      "Retrieving Results for  Dekar.\n",
      "Missing field/result... skipping.\n",
      "Retrieving Results for  Labuhan.\n",
      "Closest hotel to Labuhan at -6.8844 , 112.2051 is Pondok Modern Darul Islam.\n",
      "Retrieving Results for  Menongue.\n",
      "Closest hotel to Menongue at -14.6585 , 17.691 is BANCO ECONÓMICO MENONGUE.\n",
      "Retrieving Results for  Thohoyandou.\n",
      "Closest hotel to Thohoyandou at -22.9456 , 30.485 is Blue IT Marketing PTY LTD.\n",
      "Retrieving Results for  Obigarm.\n",
      "Closest hotel to Obigarm at 38.7173 , 69.7088 is Park Imeni Ismoila Somoni.\n",
      "Retrieving Results for  Moosomin.\n",
      "Closest hotel to Moosomin at 50.1333 , -101.6677 is Royal Canadian Legion Branch 81.\n"
     ]
    }
   ],
   "source": [
    "for index, row in hotel_df.iterrows():\n",
    "\n",
    "    latitude = row['Lat']\n",
    "    longitude = row['Lng']\n",
    "    city = row['City']\n",
    "    country = row['Country']\n",
    "    \n",
    "# url and API request\n",
    "   \n",
    "    req = requests.get(f\"https://maps.googleapis.com/maps/api/place/textsearch/json?location={latitude},{longitude}&radius=5000&type=hotel&key={g_key}\")\n",
    "    \n",
    "    response = req.json()\n",
    "    \n",
    "    results = response['results']\n",
    "    print(f\"Retrieving Results for  {city}.\")\n",
    "    try:\n",
    "        hotelname = response['results'][7]['name']\n",
    "        print(f\"Closest hotel to {city} at {latitude} , {longitude} is {hotelname}.\")\n",
    "        \n",
    "        hotel_df.loc[index, \"Hotel Name\"] = hotelname\n",
    "        \n",
    "    except (KeyError, IndexError):\n",
    "        print(\"Missing field/result... skipping.\")\n",
    "    \n",
    "    "
   ]
  },
  {
   "cell_type": "code",
   "execution_count": 12,
   "metadata": {},
   "outputs": [],
   "source": [
    "# NOTE: Do not change any of the code in this cell\n",
    "\n",
    "# Using the template add the hotel marks to the heatmap\n",
    "info_box_template = \"\"\"\n",
    "<dl>\n",
    "<dt>Name</dt><dd>{Hotel Name}</dd>\n",
    "<dt>City</dt><dd>{City}</dd>\n",
    "<dt>Country</dt><dd>{Country}</dd>\n",
    "</dl>\n",
    "\"\"\"\n",
    "# Store the DataFrame Row\n",
    "# NOTE: be sure to update with your DataFrame name\n",
    "hotel_info = [info_box_template.format(**row) for index, row in hotel_df.iterrows()]\n",
    "locations = hotel_df[[\"Lat\", \"Lng\"]]"
   ]
  },
  {
   "cell_type": "code",
   "execution_count": 13,
   "metadata": {},
   "outputs": [
    {
     "data": {
      "application/vnd.jupyter.widget-view+json": {
       "model_id": "7a8289a0f31444c0bf864d9894cf5a7f",
       "version_major": 2,
       "version_minor": 0
      },
      "text/plain": [
       "Figure(layout=FigureLayout(height='420px'))"
      ]
     },
     "metadata": {},
     "output_type": "display_data"
    },
    {
     "data": {
      "text/plain": [
       "<Figure size 432x288 with 0 Axes>"
      ]
     },
     "metadata": {},
     "output_type": "display_data"
    }
   ],
   "source": [
    "\n",
    "# Add marker\n",
    "markers = gmaps.marker_layer(locations, info_box_content = hotel_info)\n",
    "fig.add_layer(markers)\n",
    "\n",
    "plt.savefig('..\\output_data\\VacationMap.png')\n",
    "# Display Map\n",
    "fig"
   ]
  },
  {
   "cell_type": "code",
   "execution_count": null,
   "metadata": {},
   "outputs": [],
   "source": []
  },
  {
   "cell_type": "code",
   "execution_count": null,
   "metadata": {},
   "outputs": [],
   "source": []
  }
 ],
 "metadata": {
  "kernelspec": {
   "display_name": "Python [conda env:root] *",
   "language": "python",
   "name": "conda-root-py"
  },
  "language_info": {
   "codemirror_mode": {
    "name": "ipython",
    "version": 3
   },
   "file_extension": ".py",
   "mimetype": "text/x-python",
   "name": "python",
   "nbconvert_exporter": "python",
   "pygments_lexer": "ipython3",
   "version": "3.7.6"
  },
  "latex_envs": {
   "LaTeX_envs_menu_present": true,
   "autoclose": false,
   "autocomplete": true,
   "bibliofile": "biblio.bib",
   "cite_by": "apalike",
   "current_citInitial": 1,
   "eqLabelWithNumbers": true,
   "eqNumInitial": 1,
   "hotkeys": {
    "equation": "Ctrl-E",
    "itemize": "Ctrl-I"
   },
   "labels_anchors": false,
   "latex_user_defs": false,
   "report_style_numbering": false,
   "user_envs_cfg": false
  }
 },
 "nbformat": 4,
 "nbformat_minor": 2
}
