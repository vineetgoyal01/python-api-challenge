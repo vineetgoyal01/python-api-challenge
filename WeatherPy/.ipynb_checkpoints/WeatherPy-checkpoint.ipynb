{
 "cells": [
  {
   "cell_type": "markdown",
   "metadata": {},
   "source": [
    "# WeatherPy\n",
    "----\n",
    "\n",
    "#### Note\n",
    "* Instructions have been included for each segment. You do not have to follow them exactly, but they are included to help you think through the steps."
   ]
  },
  {
   "cell_type": "code",
   "execution_count": 1,
   "metadata": {
    "scrolled": true
   },
   "outputs": [],
   "source": [
    "# Dependencies and Setup\n",
    "import matplotlib.pyplot as plt\n",
    "import pandas as pd\n",
    "import numpy as np\n",
    "import requests\n",
    "import time\n",
    "from scipy.stats import linregress\n",
    "\n",
    "# Import API key\n",
    "from api_keys import weather_api_key\n",
    "\n",
    "# Incorporated citipy to determine city based on latitude and longitude\n",
    "from citipy import citipy\n",
    "\n",
    "# Output File (CSV)\n",
    "output_data_file = \"output_data/cities.csv\"\n",
    "\n",
    "# Range of latitudes and longitudes\n",
    "lat_range = (-90, 90)\n",
    "lng_range = (-180, 180)\n"
   ]
  },
  {
   "cell_type": "markdown",
   "metadata": {},
   "source": [
    "## Generate Cities List"
   ]
  },
  {
   "cell_type": "code",
   "execution_count": 2,
   "metadata": {},
   "outputs": [],
   "source": [
    "# List for holding lat_lngs and cities\n",
    "lat_lngs = []\n",
    "cities = []\n",
    "\n",
    "# Create a set of random lat and lng combinations\n",
    "lats = np.random.uniform(lat_range[0], lat_range[1], size=1500)\n",
    "lngs = np.random.uniform(lng_range[0], lng_range[1], size=1500)\n",
    "lat_lngs = zip(lats, lngs)\n"
   ]
  },
  {
   "cell_type": "code",
   "execution_count": 3,
   "metadata": {},
   "outputs": [
    {
     "data": {
      "text/plain": [
       "595"
      ]
     },
     "execution_count": 3,
     "metadata": {},
     "output_type": "execute_result"
    }
   ],
   "source": [
    "# Identify nearest city for each lat, lng combination\n",
    "for lat_lng in lat_lngs:\n",
    "    city = citipy.nearest_city(lat_lng[0], lat_lng[1]).city_name\n",
    "   \n",
    "    # If the city is unique, then add it to a our cities list\n",
    "    if city not in cities:\n",
    "        cities.append(city)\n",
    "\n",
    "# Print the city count to confirm sufficient count\n",
    "len(cities)\n"
   ]
  },
  {
   "cell_type": "markdown",
   "metadata": {},
   "source": [
    "### Perform API Calls\n",
    "* Perform a weather check on each city using a series of successive API calls.\n",
    "* Include a print log of each city as it'sbeing processed (with the city number and city name).\n"
   ]
  },
  {
   "cell_type": "code",
   "execution_count": 4,
   "metadata": {},
   "outputs": [
    {
     "data": {
      "text/plain": [
       "'http://api.openweathermap.org/data/2.5/forecast?id=524901&APPID=4463a5c3c68ac763a1f61aa1f07f006d'"
      ]
     },
     "execution_count": 4,
     "metadata": {},
     "output_type": "execute_result"
    }
   ],
   "source": [
    "\n",
    "url = \"http://api.openweathermap.org/data/2.5/forecast?id=524901&APPID=\"\n",
    "target_url = url + weather_api_key\n",
    "target_url "
   ]
  },
  {
   "cell_type": "code",
   "execution_count": 5,
   "metadata": {},
   "outputs": [],
   "source": [
    "# lists to hold reponse information\n",
    "cityname = []\n",
    "cloudiness = []\n",
    "country = []\n",
    "date = []\n",
    "humidity = []\n",
    "lat = []\n",
    "lng = []\n",
    "max_temp = []\n",
    "wind_speed = []\n",
    "count = 0"
   ]
  },
  {
   "cell_type": "code",
   "execution_count": 6,
   "metadata": {},
   "outputs": [
    {
     "name": "stdout",
     "output_type": "stream",
     "text": [
      "Processing record 1 with city name sao filipe\n",
      "Processing record 2 with city name lagoa\n",
      "Record not found\n",
      "Processing record 3 with city name zemio\n",
      "Processing record 4 with city name avarua\n",
      "Processing record 5 with city name puerto ayora\n",
      "Processing record 6 with city name bluff\n",
      "Processing record 7 with city name victoria\n",
      "Processing record 8 with city name vaini\n",
      "Processing record 9 with city name paungde\n",
      "Processing record 10 with city name narrabri\n",
      "Processing record 11 with city name rikitea\n",
      "Processing record 12 with city name hithadhoo\n",
      "Processing record 13 with city name ponta do sol\n",
      "Processing record 14 with city name southbridge\n",
      "Processing record 15 with city name qaanaaq\n",
      "Record not found\n",
      "Processing record 16 with city name bandarbeyla\n",
      "Record not found\n",
      "Processing record 17 with city name riyadh\n",
      "Processing record 18 with city name canutama\n",
      "Processing record 19 with city name adrar\n",
      "Record not found\n",
      "Processing record 20 with city name punta arenas\n",
      "Processing record 21 with city name kapaa\n",
      "Processing record 22 with city name the valley\n",
      "Processing record 23 with city name albany\n",
      "Processing record 24 with city name terrace\n",
      "Processing record 25 with city name jamestown\n",
      "Processing record 26 with city name tamandare\n",
      "Processing record 27 with city name ushuaia\n",
      "Processing record 28 with city name busselton\n",
      "Processing record 29 with city name banikoara\n",
      "Record not found\n",
      "Processing record 30 with city name tommot\n",
      "Processing record 31 with city name bilibino\n",
      "Processing record 32 with city name sirohi\n",
      "Processing record 33 with city name atuona\n",
      "Processing record 34 with city name batemans bay\n",
      "Processing record 35 with city name leninsk\n",
      "Processing record 36 with city name labuhan\n",
      "Processing record 37 with city name hamilton\n",
      "Processing record 38 with city name olafsvik\n",
      "Record not found\n",
      "Processing record 39 with city name sinjar\n",
      "Processing record 40 with city name kibala\n",
      "Processing record 41 with city name berberati\n",
      "Processing record 42 with city name ixtapa\n",
      "Processing record 43 with city name kahului\n",
      "Processing record 44 with city name marsa matruh\n",
      "Processing record 45 with city name mataura\n",
      "Processing record 46 with city name praia da vitoria\n",
      "Record not found\n",
      "Processing record 47 with city name cap malheureux\n",
      "Processing record 48 with city name bereda\n",
      "Processing record 49 with city name east london\n",
      "Processing record 50 with city name upernavik\n",
      "Processing record 51 with city name hermanus\n",
      "Processing record 52 with city name hofn\n",
      "Processing record 53 with city name pisco\n",
      "Processing record 54 with city name nikolskoye\n",
      "Processing record 55 with city name barrow\n",
      "Processing record 56 with city name tiksi\n",
      "Processing record 57 with city name durban\n",
      "Processing record 58 with city name amudat\n",
      "Processing record 59 with city name bubaque\n",
      "Processing record 60 with city name boa vista\n",
      "Processing record 61 with city name cabo san lucas\n",
      "Processing record 62 with city name kaitangata\n",
      "Record not found\n",
      "Processing record 63 with city name chokurdakh\n",
      "Record not found\n",
      "Processing record 64 with city name elat\n",
      "Processing record 65 with city name shelopugino\n",
      "Processing record 66 with city name severo-kurilsk\n",
      "Processing record 67 with city name ilulissat\n",
      "Processing record 68 with city name alenquer\n",
      "Processing record 69 with city name zeya\n",
      "Record not found\n",
      "Processing record 70 with city name shelburne\n",
      "Processing record 71 with city name cape town\n",
      "Processing record 72 with city name teya\n",
      "Processing record 73 with city name luderitz\n",
      "Record not found\n",
      "Processing record 74 with city name port blair\n",
      "Processing record 75 with city name kuryk\n",
      "Processing record 76 with city name parsons\n",
      "Processing record 77 with city name cherskiy\n",
      "Processing record 78 with city name kangaatsiaq\n",
      "Processing record 79 with city name tual\n",
      "Processing record 80 with city name tilichiki\n",
      "Processing record 81 with city name dingle\n",
      "Processing record 82 with city name swan river\n",
      "Processing record 83 with city name yellowknife\n",
      "Processing record 84 with city name ust-maya\n",
      "Processing record 85 with city name antalaha\n",
      "Processing record 86 with city name madoc\n",
      "Processing record 87 with city name te anau\n",
      "Processing record 88 with city name cairo\n",
      "Processing record 89 with city name mahebourg\n",
      "Processing record 90 with city name kodiak\n",
      "Processing record 91 with city name thompson\n",
      "Processing record 92 with city name rocha\n",
      "Processing record 93 with city name bredasdorp\n",
      "Processing record 94 with city name namibe\n",
      "Processing record 95 with city name leh\n",
      "Record not found\n",
      "Processing record 96 with city name port elizabeth\n",
      "Processing record 97 with city name traiguen\n",
      "Processing record 98 with city name chuy\n",
      "Processing record 99 with city name katsuura\n",
      "Processing record 100 with city name arlit\n",
      "Record not found\n",
      "Processing record 101 with city name bengkulu\n",
      "Processing record 102 with city name whitecourt\n",
      "Processing record 103 with city name gat\n",
      "Processing record 104 with city name ahipara\n",
      "Processing record 105 with city name santiago tuxtla\n",
      "Processing record 106 with city name santa marta\n",
      "Processing record 107 with city name west plains\n",
      "Processing record 108 with city name ancud\n",
      "Processing record 109 with city name hami\n",
      "Processing record 110 with city name caravelas\n",
      "Processing record 111 with city name longyearbyen\n",
      "Processing record 112 with city name esperance\n",
      "Record not found\n",
      "Processing record 113 with city name mecca\n",
      "Processing record 114 with city name brownsville\n",
      "Processing record 115 with city name husavik\n",
      "Processing record 116 with city name kieta\n",
      "Processing record 117 with city name khatanga\n",
      "Processing record 118 with city name boke\n",
      "Processing record 119 with city name lasa\n",
      "Processing record 120 with city name aklavik\n",
      "Processing record 121 with city name new norfolk\n",
      "Processing record 122 with city name iqaluit\n",
      "Record not found\n",
      "Processing record 123 with city name naze\n",
      "Processing record 124 with city name kuching\n",
      "Processing record 125 with city name wamba\n",
      "Processing record 126 with city name airai\n",
      "Processing record 127 with city name fortuna\n",
      "Processing record 128 with city name shimoda\n",
      "Processing record 129 with city name lebu\n",
      "Processing record 130 with city name aleksandro-nevskiy\n",
      "Processing record 131 with city name puerto madryn\n",
      "Processing record 132 with city name goderich\n",
      "Processing record 133 with city name burnie\n",
      "Processing record 134 with city name torbay\n",
      "Processing record 135 with city name port alfred\n",
      "Processing record 136 with city name hilo\n",
      "Record not found\n",
      "Processing record 137 with city name kambove\n",
      "Processing record 138 with city name dikson\n",
      "Processing record 139 with city name formosa\n",
      "Processing record 140 with city name albanel\n",
      "Processing record 141 with city name faanui\n",
      "Processing record 142 with city name butaritari\n",
      "Processing record 143 with city name yerbogachen\n",
      "Processing record 144 with city name salalah\n",
      "Processing record 145 with city name kraljevo\n",
      "Processing record 146 with city name lianzhou\n",
      "Record not found\n",
      "Processing record 147 with city name zhezkazgan\n",
      "Processing record 148 with city name timizart\n",
      "Record not found\n",
      "Processing record 149 with city name provideniya\n",
      "Processing record 150 with city name catia la mar\n",
      "Processing record 151 with city name ushtobe\n",
      "Processing record 152 with city name constitucion\n",
      "Record not found\n",
      "Processing record 153 with city name yulara\n",
      "Processing record 154 with city name mar del plata\n",
      "Processing record 155 with city name macklin\n",
      "Processing record 156 with city name nuuk\n",
      "Processing record 157 with city name bambous virieux\n",
      "Processing record 158 with city name flinders\n",
      "Record not found\n",
      "Processing record 159 with city name calvinia\n",
      "Processing record 160 with city name tasiilaq\n",
      "Processing record 161 with city name bansi\n",
      "Processing record 162 with city name zhenlai\n",
      "Processing record 163 with city name narsaq\n",
      "Processing record 164 with city name asfi\n",
      "Processing record 165 with city name sinnamary\n",
      "Processing record 166 with city name manjacaze\n",
      "Record not found\n",
      "Processing record 167 with city name bogale\n",
      "Processing record 168 with city name natal\n",
      "Processing record 169 with city name cidreira\n",
      "Processing record 170 with city name arraial do cabo\n",
      "Processing record 171 with city name hobart\n",
      "Processing record 172 with city name okhotsk\n",
      "Processing record 173 with city name pevek\n",
      "Processing record 174 with city name inyonga\n"
     ]
    },
    {
     "name": "stdout",
     "output_type": "stream",
     "text": [
      "Processing record 175 with city name nalut\n",
      "Processing record 176 with city name freeport\n",
      "Processing record 177 with city name kholodnyy\n",
      "Processing record 178 with city name axim\n",
      "Processing record 179 with city name golitsyno\n",
      "Processing record 180 with city name ovsyanka\n",
      "Processing record 181 with city name krynychky\n",
      "Processing record 182 with city name vavuniya\n",
      "Processing record 183 with city name mayo\n",
      "Processing record 184 with city name carnarvon\n",
      "Processing record 185 with city name banda aceh\n",
      "Processing record 186 with city name san quintin\n",
      "Processing record 187 with city name leshukonskoye\n",
      "Record not found\n",
      "Processing record 188 with city name georgetown\n",
      "Processing record 189 with city name lengshuijiang\n",
      "Processing record 190 with city name kitimat\n",
      "Processing record 191 with city name kaeo\n",
      "Record not found\n",
      "Processing record 192 with city name constantine\n",
      "Processing record 193 with city name northam\n",
      "Processing record 194 with city name derzhavinsk\n",
      "Processing record 195 with city name coahuayana\n",
      "Processing record 196 with city name bethel\n",
      "Record not found\n",
      "Processing record 197 with city name catalina\n",
      "Processing record 198 with city name castro\n",
      "Processing record 199 with city name vestmannaeyjar\n",
      "Processing record 200 with city name mount isa\n",
      "Processing record 201 with city name englehart\n",
      "Processing record 202 with city name yar-sale\n",
      "Processing record 203 with city name monrovia\n",
      "Processing record 204 with city name jiuquan\n",
      "Processing record 205 with city name vostochnyy\n",
      "Processing record 206 with city name beibei\n",
      "Processing record 207 with city name pontianak\n",
      "Processing record 208 with city name cayenne\n",
      "Processing record 209 with city name contamana\n",
      "Processing record 210 with city name irtyshskiy\n",
      "Processing record 211 with city name kilindoni\n",
      "Processing record 212 with city name nishihara\n",
      "Processing record 213 with city name camacha\n",
      "Processing record 214 with city name florencia\n",
      "Processing record 215 with city name nur\n",
      "Processing record 216 with city name kenai\n",
      "Processing record 217 with city name ulaanbaatar\n",
      "Record not found\n",
      "Record not found\n",
      "Processing record 218 with city name angoram\n",
      "Processing record 219 with city name zyryanovsk\n",
      "Processing record 220 with city name port hardy\n",
      "Record not found\n",
      "Processing record 221 with city name fare\n",
      "Processing record 222 with city name zhongxing\n",
      "Processing record 223 with city name katete\n",
      "Processing record 224 with city name egvekinot\n",
      "Processing record 225 with city name isangel\n",
      "Processing record 226 with city name malatya\n",
      "Processing record 227 with city name bardiyah\n",
      "Record not found\n",
      "Processing record 228 with city name kavieng\n",
      "Processing record 229 with city name kendari\n",
      "Processing record 230 with city name baykit\n",
      "Processing record 231 with city name saskylakh\n",
      "Processing record 232 with city name pingzhuang\n",
      "Processing record 233 with city name killarney\n",
      "Processing record 234 with city name bonfim\n",
      "Record not found\n",
      "Processing record 235 with city name carutapera\n",
      "Processing record 236 with city name atasu\n",
      "Processing record 237 with city name najran\n",
      "Processing record 238 with city name payson\n",
      "Processing record 239 with city name rio gallegos\n",
      "Processing record 240 with city name namatanai\n",
      "Processing record 241 with city name leningradskiy\n",
      "Record not found\n",
      "Processing record 242 with city name kijang\n",
      "Processing record 243 with city name tazovskiy\n",
      "Record not found\n",
      "Processing record 244 with city name bintulu\n",
      "Record not found\n",
      "Processing record 245 with city name alice springs\n",
      "Processing record 246 with city name barahona\n",
      "Processing record 247 with city name berdigestyakh\n",
      "Record not found\n",
      "Processing record 248 with city name saint-leu\n",
      "Processing record 249 with city name magdiwang\n",
      "Processing record 250 with city name srednekolymsk\n",
      "Processing record 251 with city name hasaki\n",
      "Processing record 252 with city name ardesen\n",
      "Processing record 253 with city name ucluelet\n",
      "Processing record 254 with city name corvallis\n",
      "Processing record 255 with city name linfen\n",
      "Record not found\n",
      "Processing record 256 with city name vostok\n",
      "Processing record 257 with city name ryotsu\n",
      "Processing record 258 with city name arman\n",
      "Processing record 259 with city name cassilandia\n",
      "Processing record 260 with city name grindavik\n",
      "Record not found\n",
      "Processing record 261 with city name north bend\n",
      "Processing record 262 with city name kisangani\n",
      "Processing record 263 with city name san jose de rio tinto\n",
      "Processing record 264 with city name saint-philippe\n",
      "Processing record 265 with city name lesnyye polyany\n",
      "Processing record 266 with city name sao gabriel da cachoeira\n",
      "Processing record 267 with city name los llanos de aridane\n",
      "Record not found\n",
      "Processing record 268 with city name tuktoyaktuk\n",
      "Processing record 269 with city name nouadhibou\n",
      "Processing record 270 with city name roros\n",
      "Processing record 271 with city name saint george\n",
      "Processing record 272 with city name ulladulla\n",
      "Processing record 273 with city name dicabisagan\n",
      "Processing record 274 with city name deputatskiy\n",
      "Processing record 275 with city name ruteng\n",
      "Record not found\n",
      "Processing record 276 with city name davila\n",
      "Record not found\n",
      "Processing record 277 with city name alofi\n",
      "Record not found\n",
      "Processing record 278 with city name fairbanks\n",
      "Processing record 279 with city name san patricio\n",
      "Record not found\n",
      "Processing record 280 with city name xinqing\n",
      "Processing record 281 with city name marawi\n",
      "Processing record 282 with city name ustrzyki dolne\n",
      "Processing record 283 with city name lulea\n",
      "Processing record 284 with city name mandalgovi\n",
      "Processing record 285 with city name wanaka\n",
      "Processing record 286 with city name arak\n",
      "Processing record 287 with city name lompoc\n",
      "Processing record 288 with city name sept-iles\n",
      "Processing record 289 with city name romans-sur-isere\n",
      "Processing record 290 with city name moron\n",
      "Processing record 291 with city name houma\n",
      "Processing record 292 with city name puerto madero\n",
      "Processing record 293 with city name sabang\n",
      "Record not found\n",
      "Processing record 294 with city name santa isabel do rio negro\n",
      "Processing record 295 with city name bosobolo\n",
      "Processing record 296 with city name vytegra\n",
      "Processing record 297 with city name brest\n",
      "Processing record 298 with city name ribeira grande\n",
      "Processing record 299 with city name rodrigues alves\n",
      "Processing record 300 with city name olgod\n",
      "Processing record 301 with city name codrington\n",
      "Processing record 302 with city name lumphat\n",
      "Processing record 303 with city name tevaitoa\n",
      "Processing record 304 with city name sitka\n",
      "Processing record 305 with city name muros\n",
      "Processing record 306 with city name moratuwa\n",
      "Processing record 307 with city name porbandar\n",
      "Record not found\n",
      "Record not found\n",
      "Processing record 308 with city name ribeira brava\n",
      "Processing record 309 with city name san policarpo\n",
      "Processing record 310 with city name mindelo\n",
      "Processing record 311 with city name palampur\n",
      "Processing record 312 with city name paraiso\n",
      "Processing record 313 with city name akyab\n",
      "Processing record 314 with city name tsalenjikha\n",
      "Processing record 315 with city name sume\n",
      "Processing record 316 with city name kiama\n",
      "Processing record 317 with city name cockburn town\n",
      "Processing record 318 with city name kolindros\n",
      "Processing record 319 with city name vanavara\n",
      "Processing record 320 with city name plymouth\n",
      "Processing record 321 with city name kolvereid\n",
      "Processing record 322 with city name wewak\n",
      "Processing record 323 with city name cleveland\n",
      "Processing record 324 with city name panguipulli\n",
      "Processing record 325 with city name saint anthony\n",
      "Processing record 326 with city name taixing\n",
      "Processing record 327 with city name gazojak\n",
      "Processing record 328 with city name guerrero negro\n",
      "Record not found\n",
      "Processing record 329 with city name mackenzie\n",
      "Processing record 330 with city name uray\n",
      "Processing record 331 with city name ostrovnoy\n",
      "Processing record 332 with city name celestun\n",
      "Processing record 333 with city name nkhata bay\n",
      "Processing record 334 with city name ponta delgada\n",
      "Processing record 335 with city name polunochnoye\n",
      "Processing record 336 with city name tuy hoa\n",
      "Processing record 337 with city name kermanshah\n",
      "Processing record 338 with city name visakhapatnam\n",
      "Processing record 339 with city name jacareacanga\n",
      "Processing record 340 with city name vardo\n",
      "Record not found\n",
      "Processing record 341 with city name semirom\n"
     ]
    },
    {
     "name": "stdout",
     "output_type": "stream",
     "text": [
      "Processing record 342 with city name marystown\n",
      "Processing record 343 with city name bathsheba\n",
      "Processing record 344 with city name puteyets\n",
      "Record not found\n",
      "Processing record 345 with city name artyom\n",
      "Processing record 346 with city name sakakah\n",
      "Processing record 347 with city name matagami\n",
      "Processing record 348 with city name borba\n",
      "Processing record 349 with city name sorland\n",
      "Processing record 350 with city name erenhot\n",
      "Processing record 351 with city name selizharovo\n",
      "Processing record 352 with city name charters towers\n",
      "Processing record 353 with city name los andes\n",
      "Processing record 354 with city name auki\n",
      "Processing record 355 with city name samarai\n",
      "Processing record 356 with city name tura\n",
      "Processing record 357 with city name correntina\n",
      "Processing record 358 with city name bonavista\n",
      "Processing record 359 with city name uyemskiy\n",
      "Processing record 360 with city name dongfeng\n",
      "Processing record 361 with city name san cristobal\n",
      "Processing record 362 with city name kaka\n",
      "Processing record 363 with city name red bluff\n",
      "Processing record 364 with city name souillac\n",
      "Processing record 365 with city name am timan\n",
      "Processing record 366 with city name laguna\n",
      "Processing record 367 with city name olavarria\n",
      "Processing record 368 with city name saldanha\n",
      "Processing record 369 with city name mumford\n",
      "Processing record 370 with city name inhambane\n",
      "Processing record 371 with city name itarema\n",
      "Processing record 372 with city name stromness\n",
      "Processing record 373 with city name areosa\n",
      "Processing record 374 with city name serov\n",
      "Processing record 375 with city name poronaysk\n",
      "Processing record 376 with city name atikokan\n",
      "Processing record 377 with city name kondagaon\n",
      "Processing record 378 with city name tomatlan\n",
      "Processing record 379 with city name coquimbo\n",
      "Processing record 380 with city name sosua\n",
      "Processing record 381 with city name richards bay\n",
      "Processing record 382 with city name verkhoyansk\n",
      "Processing record 383 with city name salamiyah\n",
      "Processing record 384 with city name ayan\n",
      "Processing record 385 with city name shingu\n",
      "Processing record 386 with city name bossier city\n",
      "Processing record 387 with city name marsh harbour\n",
      "Processing record 388 with city name west fargo\n",
      "Processing record 389 with city name mizdah\n",
      "Record not found\n",
      "Processing record 390 with city name padang\n",
      "Processing record 391 with city name taraz\n",
      "Processing record 392 with city name chulym\n",
      "Processing record 393 with city name vila franca do campo\n",
      "Processing record 394 with city name griffith\n",
      "Processing record 395 with city name lagos\n",
      "Processing record 396 with city name jumla\n",
      "Processing record 397 with city name haines junction\n",
      "Processing record 398 with city name topolobampo\n",
      "Processing record 399 with city name sterling\n",
      "Processing record 400 with city name ilembo\n",
      "Processing record 401 with city name miri\n",
      "Processing record 402 with city name wladyslawowo\n",
      "Processing record 403 with city name general pico\n",
      "Record not found\n",
      "Processing record 404 with city name port shepstone\n",
      "Processing record 405 with city name port lincoln\n",
      "Processing record 406 with city name krasnoselkup\n",
      "Processing record 407 with city name urengoy\n",
      "Processing record 408 with city name fort-shevchenko\n",
      "Processing record 409 with city name rock springs\n",
      "Processing record 410 with city name malakal\n",
      "Processing record 411 with city name kizlyar\n",
      "Processing record 412 with city name kunming\n",
      "Processing record 413 with city name taoudenni\n",
      "Processing record 414 with city name chipoka\n",
      "Processing record 415 with city name lakes entrance\n",
      "Processing record 416 with city name anadyr\n",
      "Processing record 417 with city name jos\n",
      "Processing record 418 with city name leutkirch\n",
      "Processing record 419 with city name sisimiut\n",
      "Record not found\n",
      "Processing record 420 with city name norman wells\n",
      "Processing record 421 with city name igarka\n",
      "Processing record 422 with city name atambua\n",
      "Processing record 423 with city name bud\n",
      "Record not found\n",
      "Record not found\n",
      "Processing record 424 with city name hauterive\n",
      "Processing record 425 with city name kirishi\n",
      "Processing record 426 with city name asau\n",
      "Processing record 427 with city name acapulco\n",
      "Processing record 428 with city name half moon bay\n",
      "Record not found\n",
      "Processing record 429 with city name noumea\n",
      "Processing record 430 with city name marzuq\n",
      "Processing record 431 with city name margate\n",
      "Processing record 432 with city name bagli\n",
      "Processing record 433 with city name zelenogradsk\n",
      "Processing record 434 with city name pavlovsk\n",
      "Processing record 435 with city name nhulunbuy\n",
      "Processing record 436 with city name lavrentiya\n",
      "Processing record 437 with city name umm lajj\n",
      "Processing record 438 with city name nanortalik\n",
      "Processing record 439 with city name malchevskaya\n",
      "Processing record 440 with city name pangody\n",
      "Processing record 441 with city name thinadhoo\n",
      "Record not found\n",
      "Processing record 442 with city name zhaotong\n",
      "Processing record 443 with city name kurchatov\n",
      "Record not found\n",
      "Processing record 444 with city name diu\n",
      "Processing record 445 with city name tuatapere\n",
      "Record not found\n",
      "Processing record 446 with city name malanje\n",
      "Processing record 447 with city name klaksvik\n",
      "Processing record 448 with city name emerald\n",
      "Record not found\n",
      "Processing record 449 with city name tibati\n",
      "Processing record 450 with city name pitangueiras\n",
      "Processing record 451 with city name sijunjung\n",
      "Processing record 452 with city name kemijarvi\n",
      "Processing record 453 with city name valparaiso\n",
      "Processing record 454 with city name sur\n",
      "Processing record 455 with city name boyolangu\n",
      "Processing record 456 with city name joshimath\n",
      "Processing record 457 with city name iwanai\n",
      "Processing record 458 with city name karratha\n",
      "Processing record 459 with city name aykhal\n",
      "Processing record 460 with city name puerto maldonado\n",
      "Processing record 461 with city name havoysund\n",
      "Processing record 462 with city name chumikan\n",
      "Processing record 463 with city name mehamn\n",
      "Processing record 464 with city name lerik\n",
      "Record not found\n",
      "Processing record 465 with city name terme\n",
      "Record not found\n",
      "Processing record 466 with city name santa fe\n",
      "Processing record 467 with city name kavaratti\n",
      "Processing record 468 with city name mbandaka\n",
      "Processing record 469 with city name springbok\n",
      "Processing record 470 with city name chegdomyn\n",
      "Processing record 471 with city name mulege\n",
      "Processing record 472 with city name college\n",
      "Processing record 473 with city name beyla\n",
      "Processing record 474 with city name havre-saint-pierre\n",
      "Processing record 475 with city name londonderry\n",
      "Processing record 476 with city name villa union\n",
      "Record not found\n",
      "Processing record 477 with city name poum\n",
      "Processing record 478 with city name sanford\n",
      "Processing record 479 with city name vernon\n",
      "Processing record 480 with city name kosovo polje\n",
      "Processing record 481 with city name portland\n",
      "Processing record 482 with city name pasighat\n",
      "Processing record 483 with city name juba\n",
      "Processing record 484 with city name itaituba\n",
      "Processing record 485 with city name ust-tsilma\n",
      "Processing record 486 with city name thanatpin\n",
      "Processing record 487 with city name oranjemund\n",
      "Processing record 488 with city name iskateley\n",
      "Processing record 489 with city name yala\n",
      "Processing record 490 with city name lakatoro\n",
      "Processing record 491 with city name roebourne\n",
      "Processing record 492 with city name kinablangan\n",
      "Processing record 493 with city name tessalit\n",
      "Processing record 494 with city name maralal\n",
      "Processing record 495 with city name gisborne\n",
      "Processing record 496 with city name saryg-sep\n",
      "Processing record 497 with city name hervey bay\n",
      "Processing record 498 with city name lorengau\n",
      "Record not found\n",
      "Processing record 499 with city name hobyo\n",
      "Processing record 500 with city name nabire\n",
      "Processing record 501 with city name pochutla\n",
      "Processing record 502 with city name ternate\n",
      "Processing record 503 with city name sikeston\n",
      "Processing record 504 with city name gympie\n",
      "Processing record 505 with city name bowen\n",
      "Record not found\n",
      "Processing record 506 with city name sibiti\n",
      "Processing record 507 with city name atar\n",
      "Processing record 508 with city name sorong\n",
      "Processing record 509 with city name kruisfontein\n",
      "Processing record 510 with city name ambilobe\n",
      "Record not found\n",
      "Processing record 511 with city name umarga\n",
      "Processing record 512 with city name boyuibe\n",
      "Processing record 513 with city name nova soure\n"
     ]
    },
    {
     "name": "stdout",
     "output_type": "stream",
     "text": [
      "Processing record 514 with city name sheopur\n",
      "Processing record 515 with city name ipameri\n",
      "Processing record 516 with city name sioux lookout\n",
      "Processing record 517 with city name touros\n",
      "Processing record 518 with city name gurgentepe\n",
      "Record not found\n",
      "Processing record 519 with city name broome\n",
      "Processing record 520 with city name dicamay\n",
      "Processing record 521 with city name camabatela\n",
      "Processing record 522 with city name tamiahua\n",
      "Record not found\n",
      "Processing record 523 with city name chengde\n",
      "Processing record 524 with city name cap-aux-meules\n",
      "Processing record 525 with city name la grande\n",
      "Processing record 526 with city name zabaykalsk\n",
      "Processing record 527 with city name hosakote\n",
      "Processing record 528 with city name tabuk\n",
      "Processing record 529 with city name yarada\n",
      "Record not found\n",
      "Processing record 530 with city name nome\n"
     ]
    }
   ],
   "source": [
    "for city in cities:\n",
    "    weather_response = requests.get(target_url + \"&q=\" + city + \"&units=Imperial\")\n",
    "    weather_json = weather_response.json()\n",
    "    try:\n",
    "        cityname.append(weather_json['city']['name'])\n",
    "        cloudiness.append(weather_json['list'][0]['clouds']['all'])\n",
    "        country.append(weather_json['city']['country'])\n",
    "        date.append(weather_json['list'][0]['dt'])\n",
    "        humidity.append(weather_json['list'][0]['main']['humidity'])\n",
    "        lat.append(weather_json['city']['coord']['lat'])\n",
    "        lng.append(weather_json['city']['coord']['lon'])\n",
    "        max_temp.append(weather_json['list'][0]['main']['temp_max'])\n",
    "        wind_speed.append(weather_json['list'][0]['wind']['speed'])\n",
    "        count = count + 1\n",
    "        print(f\"Processing record {count} with city name {city}\")\n",
    "    except:\n",
    "        print(\"Record not found\") \n",
    "        pass\n",
    "        \n"
   ]
  },
  {
   "cell_type": "markdown",
   "metadata": {},
   "source": [
    "### Convert Raw Data to DataFrame\n",
    "* Export the city data into a .csv.\n",
    "* Display the DataFrame"
   ]
  },
  {
   "cell_type": "code",
   "execution_count": 7,
   "metadata": {},
   "outputs": [
    {
     "data": {
      "text/html": [
       "<div>\n",
       "<style scoped>\n",
       "    .dataframe tbody tr th:only-of-type {\n",
       "        vertical-align: middle;\n",
       "    }\n",
       "\n",
       "    .dataframe tbody tr th {\n",
       "        vertical-align: top;\n",
       "    }\n",
       "\n",
       "    .dataframe thead th {\n",
       "        text-align: right;\n",
       "    }\n",
       "</style>\n",
       "<table border=\"1\" class=\"dataframe\">\n",
       "  <thead>\n",
       "    <tr style=\"text-align: right;\">\n",
       "      <th></th>\n",
       "      <th>City</th>\n",
       "      <th>Latitude</th>\n",
       "      <th>Longitude</th>\n",
       "      <th>Max Temp</th>\n",
       "      <th>Humidity</th>\n",
       "      <th>Cloudiness</th>\n",
       "      <th>Wind Speed</th>\n",
       "      <th>Country</th>\n",
       "      <th>Date</th>\n",
       "    </tr>\n",
       "  </thead>\n",
       "  <tbody>\n",
       "    <tr>\n",
       "      <th>0</th>\n",
       "      <td>São Filipe</td>\n",
       "      <td>14.8961</td>\n",
       "      <td>-24.4956</td>\n",
       "      <td>76.26</td>\n",
       "      <td>80</td>\n",
       "      <td>82</td>\n",
       "      <td>13.35</td>\n",
       "      <td>CV</td>\n",
       "      <td>1593874800</td>\n",
       "    </tr>\n",
       "    <tr>\n",
       "      <th>1</th>\n",
       "      <td>Lagoa</td>\n",
       "      <td>39.0500</td>\n",
       "      <td>-27.9833</td>\n",
       "      <td>69.30</td>\n",
       "      <td>86</td>\n",
       "      <td>89</td>\n",
       "      <td>4.09</td>\n",
       "      <td>PT</td>\n",
       "      <td>1593874800</td>\n",
       "    </tr>\n",
       "    <tr>\n",
       "      <th>2</th>\n",
       "      <td>Zemio</td>\n",
       "      <td>5.0314</td>\n",
       "      <td>25.1361</td>\n",
       "      <td>79.97</td>\n",
       "      <td>83</td>\n",
       "      <td>60</td>\n",
       "      <td>2.89</td>\n",
       "      <td>CF</td>\n",
       "      <td>1593874800</td>\n",
       "    </tr>\n",
       "    <tr>\n",
       "      <th>3</th>\n",
       "      <td>Avarua</td>\n",
       "      <td>-21.2078</td>\n",
       "      <td>-159.7750</td>\n",
       "      <td>72.75</td>\n",
       "      <td>89</td>\n",
       "      <td>94</td>\n",
       "      <td>18.66</td>\n",
       "      <td>CK</td>\n",
       "      <td>1593874800</td>\n",
       "    </tr>\n",
       "    <tr>\n",
       "      <th>4</th>\n",
       "      <td>Puerto Ayora</td>\n",
       "      <td>-0.7393</td>\n",
       "      <td>-90.3518</td>\n",
       "      <td>70.84</td>\n",
       "      <td>87</td>\n",
       "      <td>98</td>\n",
       "      <td>11.07</td>\n",
       "      <td>EC</td>\n",
       "      <td>1593874800</td>\n",
       "    </tr>\n",
       "  </tbody>\n",
       "</table>\n",
       "</div>"
      ],
      "text/plain": [
       "           City  Latitude  Longitude  Max Temp  Humidity  Cloudiness  \\\n",
       "0    São Filipe   14.8961   -24.4956     76.26        80          82   \n",
       "1         Lagoa   39.0500   -27.9833     69.30        86          89   \n",
       "2         Zemio    5.0314    25.1361     79.97        83          60   \n",
       "3        Avarua  -21.2078  -159.7750     72.75        89          94   \n",
       "4  Puerto Ayora   -0.7393   -90.3518     70.84        87          98   \n",
       "\n",
       "   Wind Speed Country        Date  \n",
       "0       13.35      CV  1593874800  \n",
       "1        4.09      PT  1593874800  \n",
       "2        2.89      CF  1593874800  \n",
       "3       18.66      CK  1593874800  \n",
       "4       11.07      EC  1593874800  "
      ]
     },
     "execution_count": 7,
     "metadata": {},
     "output_type": "execute_result"
    }
   ],
   "source": [
    "# Convert  and Display the DataFrame\n",
    " \n",
    "weather_data = pd.DataFrame({\n",
    "                        \"City\": cityname,\n",
    "                        \"Latitude\": lat, \n",
    "                        \"Longitude\":lng,\n",
    "                        \"Max Temp\":max_temp,\n",
    "                        \"Humidity\":humidity,\n",
    "                        \"Cloudiness\":cloudiness,\n",
    "                        \"Wind Speed\":wind_speed,\n",
    "                        \"Country\":country, \n",
    "                        \"Date\":date\n",
    "                        })\n",
    "weather_data.head()"
   ]
  },
  {
   "cell_type": "code",
   "execution_count": 8,
   "metadata": {},
   "outputs": [],
   "source": [
    " #Export to a csv\n",
    "weather_data.to_csv('..\\output_data\\my_weather_data.csv')"
   ]
  },
  {
   "cell_type": "markdown",
   "metadata": {},
   "source": [
    "## Inspect the data and remove the cities where the humidity > 100%.\n",
    "----\n",
    "Skip this step if there are no cities that have humidity > 100%. "
   ]
  },
  {
   "cell_type": "code",
   "execution_count": 9,
   "metadata": {},
   "outputs": [
    {
     "data": {
      "text/html": [
       "<div>\n",
       "<style scoped>\n",
       "    .dataframe tbody tr th:only-of-type {\n",
       "        vertical-align: middle;\n",
       "    }\n",
       "\n",
       "    .dataframe tbody tr th {\n",
       "        vertical-align: top;\n",
       "    }\n",
       "\n",
       "    .dataframe thead th {\n",
       "        text-align: right;\n",
       "    }\n",
       "</style>\n",
       "<table border=\"1\" class=\"dataframe\">\n",
       "  <thead>\n",
       "    <tr style=\"text-align: right;\">\n",
       "      <th></th>\n",
       "      <th>City</th>\n",
       "      <th>Latitude</th>\n",
       "      <th>Longitude</th>\n",
       "      <th>Max Temp</th>\n",
       "      <th>Humidity</th>\n",
       "      <th>Cloudiness</th>\n",
       "      <th>Wind Speed</th>\n",
       "      <th>Country</th>\n",
       "      <th>Date</th>\n",
       "    </tr>\n",
       "  </thead>\n",
       "  <tbody>\n",
       "  </tbody>\n",
       "</table>\n",
       "</div>"
      ],
      "text/plain": [
       "Empty DataFrame\n",
       "Columns: [City, Latitude, Longitude, Max Temp, Humidity, Cloudiness, Wind Speed, Country, Date]\n",
       "Index: []"
      ]
     },
     "execution_count": 9,
     "metadata": {},
     "output_type": "execute_result"
    }
   ],
   "source": [
    "Humidity_Check = weather_data.loc[weather_data[\"Humidity\"] > 100, :]\n",
    "\n",
    "Humidity_Check.head()"
   ]
  },
  {
   "cell_type": "code",
   "execution_count": 10,
   "metadata": {},
   "outputs": [],
   "source": [
    "#  Get the indices of cities that have humidity over 100%.\n",
    "\n",
    "# Skipped as no city with Humidity greater than 100%"
   ]
  },
  {
   "cell_type": "code",
   "execution_count": 11,
   "metadata": {},
   "outputs": [],
   "source": [
    "# Make a new DataFrame equal to the city data to drop all humidity outliers by index.\n",
    "# Passing \"inplace=False\" will make a copy of the city_data DataFrame, which we call \"clean_city_data\".\n",
    "\n",
    "\n",
    "# Skipped as no city with Humidity greater than 100%"
   ]
  },
  {
   "cell_type": "code",
   "execution_count": 12,
   "metadata": {},
   "outputs": [],
   "source": [
    "# Extract relevant fields from the data frame\n",
    "\n",
    "\n",
    "# Export the City_Data into a csv\n",
    "\n",
    "\n",
    "# Skipped as no city with Humidity greater than 100%"
   ]
  },
  {
   "cell_type": "markdown",
   "metadata": {},
   "source": [
    "## Plotting the Data\n",
    "* Use proper labeling of the plots using plot titles (including date of analysis) and axes labels.\n",
    "* Save the plotted figures as .pngs."
   ]
  },
  {
   "cell_type": "markdown",
   "metadata": {},
   "source": [
    "## Latitude vs. Temperature Plot"
   ]
  },
  {
   "cell_type": "code",
   "execution_count": 13,
   "metadata": {
    "scrolled": true
   },
   "outputs": [
    {
     "data": {
      "image/png": "[encoded data removed]",
      "text/plain": [
       "<Figure size 432x288 with 1 Axes>"
      ]
     },
     "metadata": {
      "needs_background": "light"
     },
     "output_type": "display_data"
    }
   ],
   "source": [
    "#Latitude vs. Temperature Plot\n",
    "\n",
    "plt.scatter(weather_data[\"Latitude\"], weather_data[\"Max Temp\"], Color = \"r\")\n",
    "plt.title('City Latitude vs. Max Temperature')\n",
    "plt.xlabel('Latitude')\n",
    "plt.ylabel('Max Temperature (F)')\n",
    "\n",
    "plt.savefig('..\\output_data\\City Latitude vs Max Temperature.png')\n",
    "\n",
    "plt.show()"
   ]
  },
  {
   "cell_type": "markdown",
   "metadata": {},
   "source": [
    "# Latitude vs. Humidity Plot"
   ]
  },
  {
   "cell_type": "code",
   "execution_count": 14,
   "metadata": {},
   "outputs": [
    {
     "data": {
      "image/png": "[encoded data removed]",
      "text/plain": [
       "<Figure size 432x288 with 1 Axes>"
      ]
     },
     "metadata": {
      "needs_background": "light"
     },
     "output_type": "display_data"
    }
   ],
   "source": [
    "#Latitude vs. Humidity Plot\n",
    "\n",
    "plt.scatter(weather_data[\"Latitude\"], weather_data[\"Humidity\"], Color = \"b\")\n",
    "plt.title('City Latitude vs. Humidity')\n",
    "plt.xlabel('Latitude')\n",
    "plt.ylabel('Humidity (%)')\n",
    "\n",
    "plt.savefig('..\\output_data\\City Latitude vs Humidity.png')\n",
    "\n",
    "plt.show()"
   ]
  },
  {
   "cell_type": "markdown",
   "metadata": {},
   "source": [
    "## Latitude vs. Cloudiness Plot"
   ]
  },
  {
   "cell_type": "code",
   "execution_count": 15,
   "metadata": {},
   "outputs": [
    {
     "data": {
      "image/png": "[encoded data removed]",
      "text/plain": [
       "<Figure size 432x288 with 1 Axes>"
      ]
     },
     "metadata": {
      "needs_background": "light"
     },
     "output_type": "display_data"
    }
   ],
   "source": [
    "# Latitude vs. Cloudiness Plot\n",
    "\n",
    "plt.scatter(weather_data[\"Latitude\"], weather_data[\"Cloudiness\"], Color = \"g\")\n",
    "plt.title('City Latitude vs. Cloudiness')\n",
    "plt.xlabel('Latitude')\n",
    "plt.ylabel('Cloudiness')\n",
    "\n",
    "plt.savefig('..\\output_data\\City Latitude vs Cloudiness.png')\n",
    "\n",
    "plt.show()"
   ]
  },
  {
   "cell_type": "markdown",
   "metadata": {},
   "source": [
    "## Latitude vs. Wind Speed Plot"
   ]
  },
  {
   "cell_type": "code",
   "execution_count": 16,
   "metadata": {},
   "outputs": [
    {
     "data": {
      "image/png": "[encoded data removed]",
      "text/plain": [
       "<Figure size 432x288 with 1 Axes>"
      ]
     },
     "metadata": {
      "needs_background": "light"
     },
     "output_type": "display_data"
    }
   ],
   "source": [
    "# Latitude vs. Wind Speed Plot\n",
    "\n",
    "plt.scatter(weather_data[\"Latitude\"], weather_data[\"Wind Speed\"], Color = \"y\")\n",
    "plt.title('City Latitude vs. Wind Speed')\n",
    "plt.xlabel('Latitude')\n",
    "plt.ylabel('Wind Speed')\n",
    "\n",
    "plt.savefig('..\\output_data\\City Latitude vs Wind Speed.png')\n",
    "\n",
    "plt.show()"
   ]
  },
  {
   "cell_type": "markdown",
   "metadata": {},
   "source": [
    "## Linear Regression"
   ]
  },
  {
   "cell_type": "code",
   "execution_count": 17,
   "metadata": {},
   "outputs": [],
   "source": [
    "# OPTIONAL: Create a function to create Linear Regression plots\n",
    "\n",
    "\n",
    "def plot_linear_regression(x_values, y_values, title, text_coordinates):\n",
    "    (slope, intercept, rvalue, pvalue, stderr) = linregress(x_values, y_values)\n",
    "    regress_values = x_values * slope + intercept\n",
    "    line_eq = \"y = \" + str(round(slope,2)) + \"x + \" + str(round(intercept,2))\n",
    "    \n",
    "    plt.scatter(x_values,y_values)\n",
    "    plt.plot(x_values,regress_values,\"r-\")\n",
    "    plt.annotate(line_eq,text_coordinates,fontsize=14,color=\"red\")\n",
    "    plt.xlabel(\"Latitude\")\n",
    "    plt.ylabel(title)\n",
    "    print(f\"The r-squared is: {rvalue}\")\n",
    "  \n",
    "    "
   ]
  },
  {
   "cell_type": "code",
   "execution_count": 18,
   "metadata": {},
   "outputs": [
    {
     "data": {
      "text/html": [
       "<div>\n",
       "<style scoped>\n",
       "    .dataframe tbody tr th:only-of-type {\n",
       "        vertical-align: middle;\n",
       "    }\n",
       "\n",
       "    .dataframe tbody tr th {\n",
       "        vertical-align: top;\n",
       "    }\n",
       "\n",
       "    .dataframe thead th {\n",
       "        text-align: right;\n",
       "    }\n",
       "</style>\n",
       "<table border=\"1\" class=\"dataframe\">\n",
       "  <thead>\n",
       "    <tr style=\"text-align: right;\">\n",
       "      <th></th>\n",
       "      <th>City</th>\n",
       "      <th>Latitude</th>\n",
       "      <th>Longitude</th>\n",
       "      <th>Max Temp</th>\n",
       "      <th>Humidity</th>\n",
       "      <th>Cloudiness</th>\n",
       "      <th>Wind Speed</th>\n",
       "      <th>Country</th>\n",
       "      <th>Date</th>\n",
       "    </tr>\n",
       "  </thead>\n",
       "  <tbody>\n",
       "    <tr>\n",
       "      <th>0</th>\n",
       "      <td>São Filipe</td>\n",
       "      <td>14.8961</td>\n",
       "      <td>-24.4956</td>\n",
       "      <td>76.26</td>\n",
       "      <td>80</td>\n",
       "      <td>82</td>\n",
       "      <td>13.35</td>\n",
       "      <td>CV</td>\n",
       "      <td>1593874800</td>\n",
       "    </tr>\n",
       "    <tr>\n",
       "      <th>1</th>\n",
       "      <td>Lagoa</td>\n",
       "      <td>39.0500</td>\n",
       "      <td>-27.9833</td>\n",
       "      <td>69.30</td>\n",
       "      <td>86</td>\n",
       "      <td>89</td>\n",
       "      <td>4.09</td>\n",
       "      <td>PT</td>\n",
       "      <td>1593874800</td>\n",
       "    </tr>\n",
       "    <tr>\n",
       "      <th>2</th>\n",
       "      <td>Zemio</td>\n",
       "      <td>5.0314</td>\n",
       "      <td>25.1361</td>\n",
       "      <td>79.97</td>\n",
       "      <td>83</td>\n",
       "      <td>60</td>\n",
       "      <td>2.89</td>\n",
       "      <td>CF</td>\n",
       "      <td>1593874800</td>\n",
       "    </tr>\n",
       "    <tr>\n",
       "      <th>6</th>\n",
       "      <td>Hong Kong</td>\n",
       "      <td>22.2855</td>\n",
       "      <td>114.1577</td>\n",
       "      <td>84.11</td>\n",
       "      <td>79</td>\n",
       "      <td>99</td>\n",
       "      <td>10.54</td>\n",
       "      <td>HK</td>\n",
       "      <td>1593874800</td>\n",
       "    </tr>\n",
       "    <tr>\n",
       "      <th>8</th>\n",
       "      <td>Paungde</td>\n",
       "      <td>18.4833</td>\n",
       "      <td>95.5000</td>\n",
       "      <td>77.50</td>\n",
       "      <td>92</td>\n",
       "      <td>100</td>\n",
       "      <td>10.09</td>\n",
       "      <td>MM</td>\n",
       "      <td>1593874800</td>\n",
       "    </tr>\n",
       "  </tbody>\n",
       "</table>\n",
       "</div>"
      ],
      "text/plain": [
       "         City  Latitude  Longitude  Max Temp  Humidity  Cloudiness  \\\n",
       "0  São Filipe   14.8961   -24.4956     76.26        80          82   \n",
       "1       Lagoa   39.0500   -27.9833     69.30        86          89   \n",
       "2       Zemio    5.0314    25.1361     79.97        83          60   \n",
       "6   Hong Kong   22.2855   114.1577     84.11        79          99   \n",
       "8     Paungde   18.4833    95.5000     77.50        92         100   \n",
       "\n",
       "   Wind Speed Country        Date  \n",
       "0       13.35      CV  1593874800  \n",
       "1        4.09      PT  1593874800  \n",
       "2        2.89      CF  1593874800  \n",
       "6       10.54      HK  1593874800  \n",
       "8       10.09      MM  1593874800  "
      ]
     },
     "execution_count": 18,
     "metadata": {},
     "output_type": "execute_result"
    }
   ],
   "source": [
    "# Create Northern and Southern Hemisphere DataFrames\n",
    "\n",
    "northlat_df = weather_data.loc[weather_data[\"Latitude\"] >= 0,:]\n",
    "southlat_df = weather_data.loc[weather_data[\"Latitude\"] < 0,:]\n",
    "\n",
    "northlat_df.head()"
   ]
  },
  {
   "cell_type": "markdown",
   "metadata": {},
   "source": [
    "####  Northern Hemisphere - Max Temp vs. Latitude Linear Regression"
   ]
  },
  {
   "cell_type": "code",
   "execution_count": 19,
   "metadata": {},
   "outputs": [
    {
     "name": "stdout",
     "output_type": "stream",
     "text": [
      "The r-squared is: -0.6827116662338579\n"
     ]
    },
    {
     "data": {
      "image/png": "[encoded data removed]",
      "text/plain": [
       "<Figure size 432x288 with 1 Axes>"
      ]
     },
     "metadata": {
      "needs_background": "light"
     },
     "output_type": "display_data"
    },
    {
     "data": {
      "text/plain": [
       "<Figure size 432x288 with 0 Axes>"
      ]
     },
     "metadata": {},
     "output_type": "display_data"
    }
   ],
   "source": [
    "x_values = northlat_df[\"Latitude\"]\n",
    "y_values = northlat_df[\"Max Temp\"]\n",
    "plot_linear_regression(x_values,y_values,'Max Temp',(8,50))\n",
    "plt.show()\n",
    "plt.savefig('..\\output_data\\HM Nothern - Max Temp vs. Latitude Linear Regression.png')"
   ]
  },
  {
   "cell_type": "markdown",
   "metadata": {},
   "source": [
    "####  Southern Hemisphere - Max Temp vs. Latitude Linear Regression"
   ]
  },
  {
   "cell_type": "code",
   "execution_count": 20,
   "metadata": {},
   "outputs": [
    {
     "name": "stdout",
     "output_type": "stream",
     "text": [
      "The r-squared is: 0.8657529140108067\n"
     ]
    },
    {
     "data": {
      "image/png": "[encoded data removed]",
      "text/plain": [
       "<Figure size 432x288 with 1 Axes>"
      ]
     },
     "metadata": {
      "needs_background": "light"
     },
     "output_type": "display_data"
    }
   ],
   "source": [
    "x_values = southlat_df[\"Latitude\"]\n",
    "y_values = southlat_df[\"Max Temp\"]\n",
    "plot_linear_regression(x_values,y_values,'Max Temp',(8,50))\n",
    "\n",
    "plt.savefig('..\\output_data\\Southern Hemisphere - Max Temp vs. Latitude Linear Regression.png')\n"
   ]
  },
  {
   "cell_type": "markdown",
   "metadata": {},
   "source": [
    "####  Northern Hemisphere - Humidity (%) vs. Latitude Linear Regression"
   ]
  },
  {
   "cell_type": "code",
   "execution_count": 21,
   "metadata": {},
   "outputs": [
    {
     "name": "stdout",
     "output_type": "stream",
     "text": [
      "The r-squared is: 0.009594040101235374\n"
     ]
    },
    {
     "data": {
      "image/png": "[encoded data removed]",
      "text/plain": [
       "<Figure size 432x288 with 1 Axes>"
      ]
     },
     "metadata": {
      "needs_background": "light"
     },
     "output_type": "display_data"
    }
   ],
   "source": [
    "\n",
    "x_values = northlat_df[\"Latitude\"]\n",
    "y_values = northlat_df[\"Humidity\"]\n",
    "plot_linear_regression(x_values,y_values,'Humidity',(6,30))\n",
    "\n",
    "\n",
    "plt.savefig('..\\output_data\\Hemisphere Northern - Humidity (%) vs. Latitude Linear Regression.png')"
   ]
  },
  {
   "cell_type": "markdown",
   "metadata": {},
   "source": [
    "####  Southern Hemisphere - Humidity (%) vs. Latitude Linear Regression"
   ]
  },
  {
   "cell_type": "code",
   "execution_count": 22,
   "metadata": {},
   "outputs": [
    {
     "name": "stdout",
     "output_type": "stream",
     "text": [
      "The r-squared is: -0.08236160277531947\n"
     ]
    },
    {
     "data": {
      "image/png": "[encoded data removed]",
      "text/plain": [
       "<Figure size 432x288 with 1 Axes>"
      ]
     },
     "metadata": {
      "needs_background": "light"
     },
     "output_type": "display_data"
    }
   ],
   "source": [
    "x_values = southlat_df[\"Latitude\"]\n",
    "y_values = southlat_df[\"Humidity\"]\n",
    "plot_linear_regression(x_values,y_values,'Humidity',(8,50))\n",
    "\n",
    "plt.savefig('..\\output_data\\Southern Hemisphere - Humidity (%) vs. Latitude Linear Regression.png')"
   ]
  },
  {
   "cell_type": "markdown",
   "metadata": {},
   "source": [
    "####  Northern Hemisphere - Cloudiness (%) vs. Latitude Linear Regression"
   ]
  },
  {
   "cell_type": "code",
   "execution_count": 23,
   "metadata": {},
   "outputs": [
    {
     "name": "stdout",
     "output_type": "stream",
     "text": [
      "The r-squared is: 0.0034171424297362043\n"
     ]
    },
    {
     "data": {
      "image/png": "[encoded data removed]",
      "text/plain": [
       "<Figure size 432x288 with 1 Axes>"
      ]
     },
     "metadata": {
      "needs_background": "light"
     },
     "output_type": "display_data"
    }
   ],
   "source": [
    "x_values = northlat_df[\"Latitude\"]\n",
    "y_values = northlat_df[\"Cloudiness\"]\n",
    "plot_linear_regression(x_values,y_values,'Cloudiness',(6,30))\n",
    "\n",
    "plt.savefig('..\\output_data\\Hemisphere Northern - Cloudiness (%) vs. Latitude Linear Regression.png')"
   ]
  },
  {
   "cell_type": "markdown",
   "metadata": {},
   "source": [
    "####  Southern Hemisphere - Cloudiness (%) vs. Latitude Linear Regression"
   ]
  },
  {
   "cell_type": "code",
   "execution_count": 24,
   "metadata": {},
   "outputs": [
    {
     "name": "stdout",
     "output_type": "stream",
     "text": [
      "The r-squared is: -0.14055803564037214\n"
     ]
    },
    {
     "data": {
      "image/png": "[encoded data removed]",
      "text/plain": [
       "<Figure size 432x288 with 1 Axes>"
      ]
     },
     "metadata": {
      "needs_background": "light"
     },
     "output_type": "display_data"
    }
   ],
   "source": [
    "x_values = southlat_df[\"Latitude\"]\n",
    "y_values = southlat_df[\"Cloudiness\"]\n",
    "plot_linear_regression(x_values,y_values,'Cloudiness',(8,50))\n",
    "\n",
    "plt.savefig('..\\output_data\\Southern Hemisphere - Cloudiness (%) vs. Latitude Linear Regression.png')"
   ]
  },
  {
   "cell_type": "markdown",
   "metadata": {},
   "source": [
    "####  Northern Hemisphere - Wind Speed (mph) vs. Latitude Linear Regression"
   ]
  },
  {
   "cell_type": "code",
   "execution_count": 25,
   "metadata": {},
   "outputs": [
    {
     "name": "stdout",
     "output_type": "stream",
     "text": [
      "The r-squared is: -0.02434443002638164\n"
     ]
    },
    {
     "data": {
      "image/png": "[encoded data removed]",
      "text/plain": [
       "<Figure size 432x288 with 1 Axes>"
      ]
     },
     "metadata": {
      "needs_background": "light"
     },
     "output_type": "display_data"
    }
   ],
   "source": [
    "x_values = northlat_df[\"Latitude\"]\n",
    "y_values = northlat_df[\"Wind Speed\"]\n",
    "plot_linear_regression(x_values,y_values,'Wind Speed',(6,30))\n",
    "\n",
    "\n",
    "plt.savefig('..\\output_data\\Hemisphere Northern- Wind Speed (mph) vs. Latitude Linear Regression.png')"
   ]
  },
  {
   "cell_type": "markdown",
   "metadata": {},
   "source": [
    "####  Southern Hemisphere - Wind Speed (mph) vs. Latitude Linear Regression"
   ]
  },
  {
   "cell_type": "code",
   "execution_count": 26,
   "metadata": {},
   "outputs": [
    {
     "name": "stdout",
     "output_type": "stream",
     "text": [
      "The r-squared is: -0.0576154776592115\n"
     ]
    },
    {
     "data": {
      "image/png": "[encoded data removed]",
      "text/plain": [
       "<Figure size 432x288 with 1 Axes>"
      ]
     },
     "metadata": {
      "needs_background": "light"
     },
     "output_type": "display_data"
    }
   ],
   "source": [
    "x_values = southlat_df[\"Latitude\"]\n",
    "y_values = southlat_df[\"Wind Speed\"]\n",
    "plot_linear_regression(x_values,y_values,'Wind Speed',(6,30))\n",
    "\n",
    "\n",
    "plt.savefig('..\\output_data\\Southern Hemisphere - Wind Speed (mph) vs. Latitude Linear Regression.png')"
   ]
  },
  {
   "cell_type": "code",
   "execution_count": 27,
   "metadata": {},
   "outputs": [
    {
     "name": "stdout",
     "output_type": "stream",
     "text": [
      "Hurray! Completed all plots.\n"
     ]
    }
   ],
   "source": [
    "print(\"Hurray! Completed all plots.\")"
   ]
  },
  {
   "cell_type": "code",
   "execution_count": null,
   "metadata": {},
   "outputs": [],
   "source": []
  },
  {
   "cell_type": "code",
   "execution_count": null,
   "metadata": {},
   "outputs": [],
   "source": []
  }
 ],
 "metadata": {
  "anaconda-cloud": {},
  "kernel_info": {
   "name": "python3"
  },
  "kernelspec": {
   "display_name": "Python [conda env:root] *",
   "language": "python",
   "name": "conda-root-py"
  },
  "language_info": {
   "codemirror_mode": {
    "name": "ipython",
    "version": 3
   },
   "file_extension": ".py",
   "mimetype": "text/x-python",
   "name": "python",
   "nbconvert_exporter": "python",
   "pygments_lexer": "ipython3",
   "version": "3.7.6"
  },
  "latex_envs": {
   "LaTeX_envs_menu_present": true,
   "autoclose": false,
   "autocomplete": true,
   "bibliofile": "biblio.bib",
   "cite_by": "apalike",
   "current_citInitial": 1,
   "eqLabelWithNumbers": true,
   "eqNumInitial": 1,
   "hotkeys": {
    "equation": "Ctrl-E",
    "itemize": "Ctrl-I"
   },
   "labels_anchors": false,
   "latex_user_defs": false,
   "report_style_numbering": false,
   "user_envs_cfg": false
  },
  "nteract": {
   "version": "0.12.3"
  }
 },
 "nbformat": 4,
 "nbformat_minor": 2
}
