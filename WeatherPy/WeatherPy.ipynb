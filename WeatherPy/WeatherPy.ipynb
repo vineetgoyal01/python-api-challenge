{
 "cells": [
  {
   "cell_type": "markdown",
   "metadata": {},
   "source": [
    "# WeatherPy\n",
    "----\n",
    "\n",
    "#### Note\n",
    "* Instructions have been included for each segment. You do not have to follow them exactly, but they are included to help you think through the steps."
   ]
  },
  {
   "cell_type": "code",
   "execution_count": 1,
   "metadata": {
    "scrolled": true
   },
   "outputs": [],
   "source": [
    "# Dependencies and Setup\n",
    "import matplotlib.pyplot as plt\n",
    "import pandas as pd\n",
    "import numpy as np\n",
    "import requests\n",
    "import time\n",
    "from scipy.stats import linregress\n",
    "\n",
    "# Import API key\n",
    "from api_keys import weather_api_key\n",
    "\n",
    "# Incorporated citipy to determine city based on latitude and longitude\n",
    "from citipy import citipy\n",
    "\n",
    "# Output File (CSV)\n",
    "output_data_file = \"output_data/cities.csv\"\n",
    "\n",
    "# Range of latitudes and longitudes\n",
    "lat_range = (-90, 90)\n",
    "lng_range = (-180, 180)\n"
   ]
  },
  {
   "cell_type": "markdown",
   "metadata": {},
   "source": [
    "## Generate Cities List"
   ]
  },
  {
   "cell_type": "code",
   "execution_count": 2,
   "metadata": {},
   "outputs": [],
   "source": [
    "# List for holding lat_lngs and cities\n",
    "lat_lngs = []\n",
    "cities = []\n",
    "\n",
    "# Create a set of random lat and lng combinations\n",
    "lats = np.random.uniform(lat_range[0], lat_range[1], size=1500)\n",
    "lngs = np.random.uniform(lng_range[0], lng_range[1], size=1500)\n",
    "lat_lngs = zip(lats, lngs)\n"
   ]
  },
  {
   "cell_type": "code",
   "execution_count": 3,
   "metadata": {},
   "outputs": [
    {
     "data": {
      "text/plain": [
       "621"
      ]
     },
     "execution_count": 3,
     "metadata": {},
     "output_type": "execute_result"
    }
   ],
   "source": [
    "# Identify nearest city for each lat, lng combination\n",
    "for lat_lng in lat_lngs:\n",
    "    city = citipy.nearest_city(lat_lng[0], lat_lng[1]).city_name\n",
    "   \n",
    "    # If the city is unique, then add it to a our cities list\n",
    "    if city not in cities:\n",
    "        cities.append(city)\n",
    "\n",
    "# Print the city count to confirm sufficient count\n",
    "len(cities)\n"
   ]
  },
  {
   "cell_type": "markdown",
   "metadata": {},
   "source": [
    "### Perform API Calls\n",
    "* Perform a weather check on each city using a series of successive API calls.\n",
    "* Include a print log of each city as it'sbeing processed (with the city number and city name).\n"
   ]
  },
  {
   "cell_type": "code",
   "execution_count": 4,
   "metadata": {},
   "outputs": [],
   "source": [
    "\n",
    "url = \"http://api.openweathermap.org/data/2.5/forecast?id=524901&APPID=\"\n",
    "target_url = url + weather_api_key\n"
   ]
  },
  {
   "cell_type": "code",
   "execution_count": 5,
   "metadata": {},
   "outputs": [],
   "source": [
    "# lists to hold reponse information\n",
    "cityname = []\n",
    "cloudiness = []\n",
    "country = []\n",
    "date = []\n",
    "humidity = []\n",
    "lat = []\n",
    "lng = []\n",
    "max_temp = []\n",
    "wind_speed = []\n",
    "count = 0"
   ]
  },
  {
   "cell_type": "code",
   "execution_count": 6,
   "metadata": {},
   "outputs": [
    {
     "name": "stdout",
     "output_type": "stream",
     "text": [
      "Processing record 1 with city name alagoinhas\n",
      "Processing record 2 with city name grand gaube\n",
      "Processing record 3 with city name izhma\n",
      "Processing record 4 with city name ushuaia\n",
      "Processing record 5 with city name saint-augustin\n",
      "Processing record 6 with city name bredasdorp\n",
      "Processing record 7 with city name bronnoysund\n",
      "Processing record 8 with city name high level\n",
      "Processing record 9 with city name tuktoyaktuk\n",
      "Processing record 10 with city name kapaa\n",
      "Processing record 11 with city name hilo\n",
      "Processing record 12 with city name torbay\n",
      "Record not found\n",
      "Processing record 13 with city name ust-karsk\n",
      "Processing record 14 with city name taoudenni\n",
      "Processing record 15 with city name olafsvik\n",
      "Processing record 16 with city name yellowknife\n",
      "Processing record 17 with city name nikolskoye\n",
      "Processing record 18 with city name hermanus\n",
      "Processing record 19 with city name pevek\n",
      "Processing record 20 with city name hobart\n",
      "Processing record 21 with city name port-gentil\n",
      "Record not found\n",
      "Processing record 22 with city name bluff\n",
      "Processing record 23 with city name vestmanna\n",
      "Processing record 24 with city name rikitea\n",
      "Processing record 25 with city name quarai\n",
      "Processing record 26 with city name nakhon phanom\n",
      "Processing record 27 with city name college\n",
      "Record not found\n",
      "Processing record 28 with city name port alfred\n",
      "Processing record 29 with city name radyvyliv\n",
      "Processing record 30 with city name maidens\n",
      "Processing record 31 with city name kaitangata\n",
      "Processing record 32 with city name puerto escondido\n",
      "Processing record 33 with city name port elizabeth\n",
      "Processing record 34 with city name butaritari\n",
      "Processing record 35 with city name hambantota\n",
      "Processing record 36 with city name paamiut\n",
      "Processing record 37 with city name ixtapa\n",
      "Processing record 38 with city name karlstadt\n",
      "Processing record 39 with city name aranos\n",
      "Processing record 40 with city name aitape\n",
      "Processing record 41 with city name katrineholm\n",
      "Processing record 42 with city name barcelos\n",
      "Processing record 43 with city name mataura\n",
      "Processing record 44 with city name busselton\n",
      "Processing record 45 with city name soyo\n",
      "Processing record 46 with city name garissa\n",
      "Processing record 47 with city name narsaq\n",
      "Processing record 48 with city name irtyshskiy\n",
      "Processing record 49 with city name albany\n",
      "Processing record 50 with city name karratha\n",
      "Processing record 51 with city name itoman\n",
      "Processing record 52 with city name zaprudnya\n",
      "Processing record 53 with city name monte gordo\n",
      "Processing record 54 with city name bengkulu\n",
      "Processing record 55 with city name riverton\n",
      "Processing record 56 with city name glendive\n",
      "Record not found\n",
      "Processing record 57 with city name khatanga\n",
      "Processing record 58 with city name georgetown\n",
      "Processing record 59 with city name saint-philippe\n",
      "Processing record 60 with city name cape town\n",
      "Processing record 61 with city name huilong\n",
      "Processing record 62 with city name seymchan\n",
      "Processing record 63 with city name new norfolk\n",
      "Processing record 64 with city name sao joao da barra\n",
      "Processing record 65 with city name sioux lookout\n",
      "Processing record 66 with city name cidreira\n",
      "Processing record 67 with city name tamandare\n",
      "Processing record 68 with city name tasiilaq\n",
      "Processing record 69 with city name punta arenas\n",
      "Processing record 70 with city name kosai\n",
      "Processing record 71 with city name filingue\n",
      "Record not found\n",
      "Processing record 72 with city name chokurdakh\n",
      "Processing record 73 with city name aleksandrovskoye\n",
      "Processing record 74 with city name tura\n",
      "Processing record 75 with city name pointe michel\n",
      "Processing record 76 with city name novyy nekouz\n",
      "Processing record 77 with city name sola\n",
      "Record not found\n",
      "Processing record 78 with city name bairiki\n",
      "Processing record 79 with city name kryve ozero\n",
      "Processing record 80 with city name moose factory\n",
      "Processing record 81 with city name hithadhoo\n",
      "Processing record 82 with city name laela\n",
      "Processing record 83 with city name buala\n",
      "Processing record 84 with city name uruzgan\n",
      "Processing record 85 with city name akdagmadeni\n",
      "Processing record 86 with city name mar del plata\n",
      "Processing record 87 with city name vaini\n",
      "Processing record 88 with city name korla\n",
      "Processing record 89 with city name swakopmund\n",
      "Processing record 90 with city name leningradskiy\n",
      "Processing record 91 with city name dongsheng\n",
      "Processing record 92 with city name laurel\n",
      "Processing record 93 with city name qaanaaq\n",
      "Processing record 94 with city name aksu\n",
      "Processing record 95 with city name vila velha\n",
      "Record not found\n",
      "Record not found\n",
      "Processing record 96 with city name hamilton\n",
      "Processing record 97 with city name avarua\n",
      "Processing record 98 with city name asau\n",
      "Processing record 99 with city name east london\n",
      "Processing record 100 with city name zhigansk\n",
      "Processing record 101 with city name pisco\n",
      "Processing record 102 with city name tiksi\n",
      "Processing record 103 with city name waipawa\n",
      "Processing record 104 with city name nome\n",
      "Processing record 105 with city name thoen\n",
      "Processing record 106 with city name mbabane\n",
      "Processing record 107 with city name puerto ayora\n",
      "Record not found\n",
      "Processing record 108 with city name macusani\n",
      "Processing record 109 with city name naze\n",
      "Processing record 110 with city name akdepe\n",
      "Processing record 111 with city name biltine\n",
      "Processing record 112 with city name ust-ishim\n",
      "Processing record 113 with city name jamestown\n",
      "Processing record 114 with city name reitz\n",
      "Processing record 115 with city name sisimiut\n",
      "Record not found\n",
      "Processing record 116 with city name hasaki\n",
      "Processing record 117 with city name russell\n",
      "Processing record 118 with city name lebu\n",
      "Processing record 119 with city name port lincoln\n",
      "Processing record 120 with city name dikson\n",
      "Processing record 121 with city name kloulklubed\n",
      "Processing record 122 with city name kavaratti\n",
      "Processing record 123 with city name ayan\n",
      "Processing record 124 with city name coahuayana\n",
      "Processing record 125 with city name comodoro rivadavia\n",
      "Processing record 126 with city name pahrump\n",
      "Processing record 127 with city name marsa matruh\n",
      "Processing record 128 with city name loralai\n",
      "Record not found\n",
      "Processing record 129 with city name ribeira grande\n",
      "Processing record 130 with city name batemans bay\n",
      "Processing record 131 with city name visby\n",
      "Processing record 132 with city name lagoa\n",
      "Processing record 133 with city name namibe\n",
      "Processing record 134 with city name rio tercero\n",
      "Record not found\n",
      "Processing record 135 with city name daru\n",
      "Processing record 136 with city name bethel\n",
      "Processing record 137 with city name aksarka\n",
      "Processing record 138 with city name sao filipe\n",
      "Processing record 139 with city name kodiak\n",
      "Record not found\n",
      "Processing record 140 with city name saint george\n",
      "Processing record 141 with city name tyukhtet\n",
      "Processing record 142 with city name saskylakh\n",
      "Processing record 143 with city name atuona\n",
      "Processing record 144 with city name ilulissat\n",
      "Processing record 145 with city name magadan\n",
      "Processing record 146 with city name haines junction\n",
      "Processing record 147 with city name souillac\n",
      "Record not found\n",
      "Processing record 148 with city name chara\n",
      "Processing record 149 with city name te anau\n",
      "Processing record 150 with city name havre-saint-pierre\n",
      "Processing record 151 with city name yumen\n",
      "Record not found\n",
      "Record not found\n",
      "Processing record 152 with city name muzhi\n",
      "Record not found\n",
      "Processing record 153 with city name dongfeng\n",
      "Processing record 154 with city name ferrol\n",
      "Processing record 155 with city name dentsville\n",
      "Processing record 156 with city name bitung\n",
      "Processing record 157 with city name berlevag\n",
      "Processing record 158 with city name slave lake\n",
      "Processing record 159 with city name folldal\n",
      "Processing record 160 with city name balkhash\n",
      "Record not found\n",
      "Processing record 161 with city name berea\n",
      "Processing record 162 with city name weligama\n",
      "Processing record 163 with city name arraial do cabo\n",
      "Processing record 164 with city name verkhoyansk\n",
      "Processing record 165 with city name manta\n",
      "Processing record 166 with city name cayenne\n",
      "Processing record 167 with city name talara\n",
      "Processing record 168 with city name manado\n",
      "Processing record 169 with city name fortuna\n",
      "Processing record 170 with city name gravdal\n",
      "Processing record 171 with city name port hardy\n",
      "Processing record 172 with city name takab\n",
      "Processing record 173 with city name okakarara\n"
     ]
    },
    {
     "name": "stdout",
     "output_type": "stream",
     "text": [
      "Processing record 174 with city name ponta do sol\n",
      "Processing record 175 with city name henties bay\n",
      "Processing record 176 with city name tilichiki\n",
      "Processing record 177 with city name faanui\n",
      "Processing record 178 with city name richards bay\n",
      "Processing record 179 with city name komsomolskiy\n",
      "Processing record 180 with city name thinadhoo\n",
      "Record not found\n",
      "Processing record 181 with city name montgomery\n",
      "Processing record 182 with city name bom jardim\n",
      "Processing record 183 with city name pandan\n",
      "Processing record 184 with city name mahebourg\n",
      "Processing record 185 with city name yar-sale\n",
      "Processing record 186 with city name coquimbo\n",
      "Processing record 187 with city name severo-kurilsk\n",
      "Processing record 188 with city name kahului\n",
      "Processing record 189 with city name marawi\n",
      "Processing record 190 with city name erzin\n",
      "Processing record 191 with city name port augusta\n",
      "Processing record 192 with city name geraldton\n",
      "Processing record 193 with city name zhezkazgan\n",
      "Processing record 194 with city name vardo\n",
      "Processing record 195 with city name juba\n",
      "Processing record 196 with city name bichura\n",
      "Processing record 197 with city name torrington\n",
      "Record not found\n",
      "Processing record 198 with city name charleville-mezieres\n",
      "Processing record 199 with city name ostrovnoy\n",
      "Processing record 200 with city name tuatapere\n",
      "Processing record 201 with city name deputatskiy\n",
      "Processing record 202 with city name nobres\n",
      "Processing record 203 with city name beruwala\n",
      "Processing record 204 with city name husavik\n",
      "Processing record 205 with city name cap-aux-meules\n",
      "Processing record 206 with city name cherskiy\n",
      "Record not found\n",
      "Processing record 207 with city name abnub\n",
      "Processing record 208 with city name nyagan\n",
      "Processing record 209 with city name conakry\n",
      "Processing record 210 with city name viransehir\n",
      "Processing record 211 with city name thunder bay\n",
      "Processing record 212 with city name conceicao do mato dentro\n",
      "Processing record 213 with city name charters towers\n",
      "Processing record 214 with city name carnarvon\n",
      "Processing record 215 with city name mana\n",
      "Processing record 216 with city name puerto carreno\n",
      "Processing record 217 with city name presidencia roque saenz pena\n",
      "Processing record 218 with city name nanortalik\n",
      "Processing record 219 with city name itarema\n",
      "Processing record 220 with city name hirara\n",
      "Processing record 221 with city name oranjemund\n",
      "Processing record 222 with city name teknaf\n",
      "Processing record 223 with city name port hedland\n",
      "Processing record 224 with city name hukuntsi\n",
      "Processing record 225 with city name provideniya\n",
      "Processing record 226 with city name lugovoy\n",
      "Processing record 227 with city name nichinan\n",
      "Record not found\n",
      "Processing record 228 with city name ust-kuyga\n",
      "Processing record 229 with city name longyearbyen\n",
      "Processing record 230 with city name guerrero negro\n",
      "Processing record 231 with city name umm kaddadah\n",
      "Processing record 232 with city name stromness\n",
      "Processing record 233 with city name alamogordo\n",
      "Processing record 234 with city name catalca\n",
      "Processing record 235 with city name lasa\n",
      "Processing record 236 with city name luanda\n",
      "Processing record 237 with city name chapais\n",
      "Processing record 238 with city name airai\n",
      "Processing record 239 with city name tabuk\n",
      "Processing record 240 with city name tiznit\n",
      "Processing record 241 with city name neepawa\n",
      "Processing record 242 with city name ukiah\n",
      "Processing record 243 with city name takhtamygda\n",
      "Processing record 244 with city name vila franca do campo\n",
      "Processing record 245 with city name madaoua\n",
      "Record not found\n",
      "Processing record 246 with city name bacolod\n",
      "Processing record 247 with city name papara\n",
      "Processing record 248 with city name batticaloa\n",
      "Processing record 249 with city name sao francisco\n",
      "Processing record 250 with city name guozhen\n",
      "Processing record 251 with city name amargosa\n",
      "Processing record 252 with city name plettenberg bay\n",
      "Processing record 253 with city name upernavik\n",
      "Processing record 254 with city name kavieng\n",
      "Processing record 255 with city name acapulco\n",
      "Processing record 256 with city name kushmurun\n",
      "Processing record 257 with city name cabo san lucas\n",
      "Record not found\n",
      "Processing record 258 with city name hungund\n",
      "Processing record 259 with city name tocopilla\n",
      "Processing record 260 with city name thessalon\n",
      "Processing record 261 with city name margate\n",
      "Processing record 262 with city name arona\n",
      "Processing record 263 with city name alofi\n",
      "Record not found\n",
      "Processing record 264 with city name victoria\n",
      "Processing record 265 with city name chirongui\n",
      "Processing record 266 with city name tautira\n",
      "Record not found\n",
      "Processing record 267 with city name conde\n",
      "Processing record 268 with city name kiama\n",
      "Processing record 269 with city name saint-georges\n",
      "Processing record 270 with city name fomboni\n",
      "Processing record 271 with city name thompson\n",
      "Processing record 272 with city name gushikawa\n",
      "Processing record 273 with city name sayyan\n",
      "Processing record 274 with city name high rock\n",
      "Processing record 275 with city name klaksvik\n",
      "Record not found\n",
      "Processing record 276 with city name san felipe\n",
      "Processing record 277 with city name tournon-sur-rhone\n",
      "Processing record 278 with city name griffith\n",
      "Processing record 279 with city name mecca\n",
      "Processing record 280 with city name palmer\n",
      "Processing record 281 with city name barrow\n",
      "Processing record 282 with city name tarauaca\n",
      "Processing record 283 with city name dingle\n",
      "Processing record 284 with city name misratah\n",
      "Processing record 285 with city name paita\n",
      "Processing record 286 with city name svetlogorsk\n",
      "Record not found\n",
      "Processing record 287 with city name lahij\n",
      "Processing record 288 with city name urumqi\n",
      "Processing record 289 with city name kamenka\n",
      "Processing record 290 with city name saldanha\n",
      "Processing record 291 with city name katsuura\n",
      "Record not found\n",
      "Processing record 292 with city name norman wells\n",
      "Processing record 293 with city name huainan\n",
      "Processing record 294 with city name manggar\n",
      "Processing record 295 with city name del rio\n",
      "Processing record 296 with city name botwood\n",
      "Processing record 297 with city name arrecife\n",
      "Processing record 298 with city name ust-nera\n",
      "Processing record 299 with city name lulea\n",
      "Processing record 300 with city name palauig\n",
      "Record not found\n",
      "Processing record 301 with city name murgab\n",
      "Processing record 302 with city name shimoda\n",
      "Processing record 303 with city name pacific grove\n",
      "Processing record 304 with city name bathsheba\n",
      "Processing record 305 with city name fairbanks\n",
      "Processing record 306 with city name bubaque\n",
      "Processing record 307 with city name oil city\n",
      "Record not found\n",
      "Processing record 308 with city name champerico\n",
      "Processing record 309 with city name mabaruma\n",
      "Processing record 310 with city name krasnoselkup\n",
      "Record not found\n",
      "Processing record 311 with city name chapada dos guimaraes\n",
      "Processing record 312 with city name beringovskiy\n",
      "Processing record 313 with city name capaccio\n",
      "Processing record 314 with city name winnemucca\n",
      "Processing record 315 with city name pindwara\n",
      "Record not found\n",
      "Processing record 316 with city name westport\n",
      "Processing record 317 with city name poltavka\n",
      "Processing record 318 with city name saint marys\n",
      "Processing record 319 with city name lakselv\n",
      "Record not found\n",
      "Processing record 320 with city name mumford\n",
      "Processing record 321 with city name balrampur\n",
      "Processing record 322 with city name kruisfontein\n",
      "Processing record 323 with city name salalah\n",
      "Processing record 324 with city name port lavaca\n",
      "Record not found\n",
      "Processing record 325 with city name lata\n",
      "Processing record 326 with city name sao gabriel da cachoeira\n",
      "Processing record 327 with city name manavalakurichi\n",
      "Processing record 328 with city name kaeo\n",
      "Processing record 329 with city name yashkul\n",
      "Processing record 330 with city name codrington\n",
      "Processing record 331 with city name chuy\n",
      "Processing record 332 with city name eucaliptus\n",
      "Processing record 333 with city name venkatagiri\n",
      "Processing record 334 with city name kaniama\n",
      "Processing record 335 with city name palencia\n",
      "Processing record 336 with city name khandbari\n",
      "Processing record 337 with city name ambon\n",
      "Processing record 338 with city name katobu\n",
      "Processing record 339 with city name hovd\n",
      "Processing record 340 with city name poum\n",
      "Processing record 341 with city name katangli\n",
      "Processing record 342 with city name castro\n"
     ]
    },
    {
     "name": "stdout",
     "output_type": "stream",
     "text": [
      "Processing record 343 with city name okha\n",
      "Processing record 344 with city name tual\n",
      "Processing record 345 with city name kieta\n",
      "Processing record 346 with city name ternate\n",
      "Processing record 347 with city name wawa\n",
      "Processing record 348 with city name romny\n",
      "Processing record 349 with city name bambous virieux\n",
      "Processing record 350 with city name padilla\n",
      "Processing record 351 with city name waddan\n",
      "Processing record 352 with city name prince rupert\n",
      "Record not found\n",
      "Record not found\n",
      "Processing record 353 with city name rocha\n",
      "Processing record 354 with city name omaruru\n",
      "Processing record 355 with city name ilo\n",
      "Record not found\n",
      "Processing record 356 with city name chuguyevka\n",
      "Processing record 357 with city name liverpool\n",
      "Processing record 358 with city name kungurtug\n",
      "Processing record 359 with city name arica\n",
      "Processing record 360 with city name okhotsk\n",
      "Processing record 361 with city name vestmannaeyjar\n",
      "Processing record 362 with city name lengshuitan\n",
      "Processing record 363 with city name palmares do sul\n",
      "Processing record 364 with city name portland\n",
      "Processing record 365 with city name san luis\n",
      "Processing record 366 with city name riyadh\n",
      "Record not found\n",
      "Processing record 367 with city name esperance\n",
      "Record not found\n",
      "Processing record 368 with city name besikduzu\n",
      "Processing record 369 with city name santiago\n",
      "Processing record 370 with city name san matias\n",
      "Processing record 371 with city name suatu\n",
      "Processing record 372 with city name northam\n",
      "Processing record 373 with city name puerto suarez\n",
      "Record not found\n",
      "Processing record 374 with city name meulaboh\n",
      "Processing record 375 with city name krasnogvardeyskoye\n",
      "Processing record 376 with city name nicoya\n",
      "Processing record 377 with city name bartica\n",
      "Record not found\n",
      "Processing record 378 with city name martapura\n",
      "Processing record 379 with city name severo-yeniseyskiy\n",
      "Processing record 380 with city name neiafu\n",
      "Processing record 381 with city name benguela\n",
      "Record not found\n",
      "Processing record 382 with city name north platte\n",
      "Record not found\n",
      "Processing record 383 with city name kaoma\n",
      "Processing record 384 with city name sao miguel do araguaia\n",
      "Processing record 385 with city name nioaque\n",
      "Processing record 386 with city name andenes\n",
      "Processing record 387 with city name escarcega\n",
      "Processing record 388 with city name turukhansk\n",
      "Record not found\n",
      "Processing record 389 with city name kenai\n",
      "Processing record 390 with city name viedma\n",
      "Processing record 391 with city name guarapari\n",
      "Processing record 392 with city name kuytun\n",
      "Processing record 393 with city name lavrentiya\n",
      "Processing record 394 with city name qaqortoq\n",
      "Processing record 395 with city name bazarnyye mataki\n",
      "Processing record 396 with city name calvinia\n",
      "Processing record 397 with city name kupang\n",
      "Record not found\n",
      "Processing record 398 with city name smithers\n",
      "Processing record 399 with city name port macquarie\n",
      "Processing record 400 with city name constitucion\n",
      "Processing record 401 with city name vao\n",
      "Processing record 402 with city name sabang\n",
      "Processing record 403 with city name genhe\n",
      "Record not found\n",
      "Processing record 404 with city name zigong\n",
      "Processing record 405 with city name irbil\n",
      "Processing record 406 with city name araouane\n",
      "Processing record 407 with city name paka\n",
      "Processing record 408 with city name wichian buri\n",
      "Processing record 409 with city name lovington\n",
      "Processing record 410 with city name puerto narino\n",
      "Processing record 411 with city name kvitok\n",
      "Record not found\n",
      "Processing record 412 with city name arusha\n",
      "Processing record 413 with city name talnakh\n",
      "Processing record 414 with city name wewak\n",
      "Record not found\n",
      "Processing record 415 with city name zhanaozen\n",
      "Processing record 416 with city name gat\n",
      "Processing record 417 with city name wadena\n",
      "Processing record 418 with city name voyvozh\n",
      "Processing record 419 with city name khash\n",
      "Processing record 420 with city name bon accord\n",
      "Record not found\n",
      "Processing record 421 with city name alta floresta\n",
      "Processing record 422 with city name bombay\n",
      "Processing record 423 with city name mosquera\n",
      "Processing record 424 with city name yarmouth\n",
      "Processing record 425 with city name mwinilunga\n",
      "Processing record 426 with city name goderich\n",
      "Processing record 427 with city name ancud\n",
      "Processing record 428 with city name lebowakgomo\n",
      "Processing record 429 with city name kampene\n",
      "Processing record 430 with city name makat\n",
      "Processing record 431 with city name tahe\n",
      "Processing record 432 with city name jeremie\n",
      "Processing record 433 with city name abha\n",
      "Processing record 434 with city name mindelo\n",
      "Processing record 435 with city name raga\n",
      "Processing record 436 with city name san cristobal\n",
      "Processing record 437 with city name metro\n",
      "Processing record 438 with city name pascagoula\n",
      "Processing record 439 with city name kerema\n",
      "Processing record 440 with city name syamzha\n",
      "Processing record 441 with city name mount gambier\n",
      "Record not found\n",
      "Processing record 442 with city name trelew\n",
      "Processing record 443 with city name alamos\n",
      "Processing record 444 with city name khuzhir\n",
      "Record not found\n",
      "Processing record 445 with city name sechura\n",
      "Processing record 446 with city name mangochi\n",
      "Processing record 447 with city name shache\n",
      "Processing record 448 with city name aloleng\n",
      "Processing record 449 with city name babino\n",
      "Processing record 450 with city name bandundu\n",
      "Processing record 451 with city name lorengau\n",
      "Processing record 452 with city name itaituba\n",
      "Processing record 453 with city name marsabit\n",
      "Processing record 454 with city name goya\n",
      "Processing record 455 with city name machico\n",
      "Processing record 456 with city name sitka\n",
      "Record not found\n",
      "Processing record 457 with city name catamarca\n",
      "Processing record 458 with city name luderitz\n",
      "Processing record 459 with city name ulladulla\n",
      "Processing record 460 with city name rylsk\n",
      "Processing record 461 with city name muborak\n",
      "Processing record 462 with city name sampit\n",
      "Processing record 463 with city name hofn\n",
      "Processing record 464 with city name buchanan\n",
      "Processing record 465 with city name tsurib\n",
      "Processing record 466 with city name kulim\n",
      "Processing record 467 with city name chicama\n",
      "Processing record 468 with city name zemio\n",
      "Processing record 469 with city name maniitsoq\n",
      "Processing record 470 with city name roald\n",
      "Processing record 471 with city name amapa\n",
      "Processing record 472 with city name lazaro cardenas\n",
      "Processing record 473 with city name clyde river\n",
      "Processing record 474 with city name raduzhnyy\n",
      "Processing record 475 with city name hurghada\n",
      "Processing record 476 with city name auki\n",
      "Processing record 477 with city name ures\n",
      "Processing record 478 with city name atherton\n",
      "Processing record 479 with city name riihimaki\n",
      "Processing record 480 with city name mackay\n",
      "Processing record 481 with city name bulgan\n",
      "Processing record 482 with city name la reforma\n",
      "Processing record 483 with city name abong mbang\n",
      "Record not found\n",
      "Processing record 484 with city name touros\n",
      "Processing record 485 with city name galbshtadt\n",
      "Processing record 486 with city name bilibino\n",
      "Processing record 487 with city name murchison\n",
      "Processing record 488 with city name jinchang\n",
      "Processing record 489 with city name san patricio\n",
      "Processing record 490 with city name dharchula\n",
      "Processing record 491 with city name tsuruga\n",
      "Processing record 492 with city name uncia\n",
      "Processing record 493 with city name elizabeth city\n",
      "Processing record 494 with city name omsukchan\n",
      "Processing record 495 with city name benjamin aceval\n",
      "Processing record 496 with city name lompoc\n",
      "Processing record 497 with city name chulman\n",
      "Record not found\n",
      "Processing record 498 with city name yerofey pavlovich\n",
      "Processing record 499 with city name quelimane\n",
      "Processing record 500 with city name santa lucia\n",
      "Processing record 501 with city name honiara\n",
      "Processing record 502 with city name kenora\n",
      "Processing record 503 with city name chabahar\n",
      "Processing record 504 with city name channel-port aux basques\n",
      "Processing record 505 with city name nelson bay\n",
      "Processing record 506 with city name tauranga\n",
      "Processing record 507 with city name denia\n",
      "Processing record 508 with city name rudnogorsk\n",
      "Processing record 509 with city name nhulunbuy\n",
      "Processing record 510 with city name lima\n",
      "Processing record 511 with city name hibbing\n",
      "Processing record 512 with city name la ronge\n",
      "Processing record 513 with city name uyuni\n"
     ]
    },
    {
     "name": "stdout",
     "output_type": "stream",
     "text": [
      "Processing record 514 with city name rapid valley\n",
      "Processing record 515 with city name kimbe\n",
      "Processing record 516 with city name laem sing\n",
      "Processing record 517 with city name gamboma\n",
      "Processing record 518 with city name namatanai\n",
      "Processing record 519 with city name keti bandar\n",
      "Processing record 520 with city name skole\n",
      "Processing record 521 with city name siguiri\n",
      "Processing record 522 with city name niigata\n",
      "Processing record 523 with city name butajira\n",
      "Processing record 524 with city name christchurch\n",
      "Processing record 525 with city name seminole\n",
      "Processing record 526 with city name basco\n",
      "Processing record 527 with city name beziers\n",
      "Processing record 528 with city name bettiah\n",
      "Processing record 529 with city name babushkin\n",
      "Record not found\n",
      "Record not found\n",
      "Processing record 530 with city name tabou\n",
      "Processing record 531 with city name kushiro\n",
      "Processing record 532 with city name timmins\n",
      "Processing record 533 with city name garmsar\n",
      "Processing record 534 with city name marzuq\n",
      "Processing record 535 with city name hay river\n",
      "Processing record 536 with city name parambu\n",
      "Processing record 537 with city name gawler\n",
      "Processing record 538 with city name mawlaik\n",
      "Processing record 539 with city name hit\n",
      "Processing record 540 with city name urubicha\n",
      "Processing record 541 with city name ankang\n",
      "Processing record 542 with city name marathon\n",
      "Processing record 543 with city name broome\n",
      "Processing record 544 with city name daia\n",
      "Processing record 545 with city name biankouma\n",
      "Record not found\n",
      "Processing record 546 with city name arlit\n",
      "Processing record 547 with city name vasilyevskiy mokh\n",
      "Processing record 548 with city name turochak\n",
      "Processing record 549 with city name coihaique\n",
      "Processing record 550 with city name egvekinot\n",
      "Record not found\n",
      "Processing record 551 with city name camacha\n",
      "Processing record 552 with city name destin\n",
      "Processing record 553 with city name shingu\n",
      "Processing record 554 with city name berbera\n",
      "Processing record 555 with city name urbano santos\n",
      "Processing record 556 with city name vieques\n",
      "Processing record 557 with city name hanko\n",
      "Processing record 558 with city name cambe\n",
      "Processing record 559 with city name sibolga\n",
      "Processing record 560 with city name puerto leguizamo\n",
      "Record not found\n",
      "Processing record 561 with city name takoradi\n"
     ]
    }
   ],
   "source": [
    "for city in cities:\n",
    "    weather_response = requests.get(target_url + \"&q=\" + city + \"&units=Imperial\")\n",
    "    weather_json = weather_response.json()\n",
    "    try:\n",
    "        cityname.append(weather_json['city']['name'])\n",
    "        cloudiness.append(weather_json['list'][0]['clouds']['all'])\n",
    "        country.append(weather_json['city']['country'])\n",
    "        date.append(weather_json['list'][0]['dt'])\n",
    "        humidity.append(weather_json['list'][0]['main']['humidity'])\n",
    "        lat.append(weather_json['city']['coord']['lat'])\n",
    "        lng.append(weather_json['city']['coord']['lon'])\n",
    "        max_temp.append(weather_json['list'][0]['main']['temp_max'])\n",
    "        wind_speed.append(weather_json['list'][0]['wind']['speed'])\n",
    "        count = count + 1\n",
    "        print(f\"Processing record {count} with city name {city}\")\n",
    "    except:\n",
    "        print(\"Record not found\") \n",
    "        pass\n",
    "        \n"
   ]
  },
  {
   "cell_type": "markdown",
   "metadata": {},
   "source": [
    "### Convert Raw Data to DataFrame\n",
    "* Export the city data into a .csv.\n",
    "* Display the DataFrame"
   ]
  },
  {
   "cell_type": "code",
   "execution_count": 7,
   "metadata": {},
   "outputs": [
    {
     "data": {
      "text/html": [
       "<div>\n",
       "<style scoped>\n",
       "    .dataframe tbody tr th:only-of-type {\n",
       "        vertical-align: middle;\n",
       "    }\n",
       "\n",
       "    .dataframe tbody tr th {\n",
       "        vertical-align: top;\n",
       "    }\n",
       "\n",
       "    .dataframe thead th {\n",
       "        text-align: right;\n",
       "    }\n",
       "</style>\n",
       "<table border=\"1\" class=\"dataframe\">\n",
       "  <thead>\n",
       "    <tr style=\"text-align: right;\">\n",
       "      <th></th>\n",
       "      <th>City</th>\n",
       "      <th>Latitude</th>\n",
       "      <th>Longitude</th>\n",
       "      <th>Max Temp</th>\n",
       "      <th>Humidity</th>\n",
       "      <th>Cloudiness</th>\n",
       "      <th>Wind Speed</th>\n",
       "      <th>Country</th>\n",
       "      <th>Date</th>\n",
       "    </tr>\n",
       "  </thead>\n",
       "  <tbody>\n",
       "    <tr>\n",
       "      <th>0</th>\n",
       "      <td>Alagoinhas</td>\n",
       "      <td>-12.1356</td>\n",
       "      <td>-38.4192</td>\n",
       "      <td>82.72</td>\n",
       "      <td>67</td>\n",
       "      <td>5</td>\n",
       "      <td>7.14</td>\n",
       "      <td>BR</td>\n",
       "      <td>1593874800</td>\n",
       "    </tr>\n",
       "    <tr>\n",
       "      <th>1</th>\n",
       "      <td>Grand Gaube</td>\n",
       "      <td>-20.0064</td>\n",
       "      <td>57.6608</td>\n",
       "      <td>72.32</td>\n",
       "      <td>77</td>\n",
       "      <td>64</td>\n",
       "      <td>23.67</td>\n",
       "      <td>MU</td>\n",
       "      <td>1593874800</td>\n",
       "    </tr>\n",
       "    <tr>\n",
       "      <th>2</th>\n",
       "      <td>Izhma</td>\n",
       "      <td>65.0083</td>\n",
       "      <td>53.9113</td>\n",
       "      <td>75.02</td>\n",
       "      <td>53</td>\n",
       "      <td>75</td>\n",
       "      <td>6.87</td>\n",
       "      <td>RU</td>\n",
       "      <td>1593874800</td>\n",
       "    </tr>\n",
       "    <tr>\n",
       "      <th>3</th>\n",
       "      <td>Ushuaia</td>\n",
       "      <td>-54.8000</td>\n",
       "      <td>-68.3000</td>\n",
       "      <td>30.78</td>\n",
       "      <td>93</td>\n",
       "      <td>54</td>\n",
       "      <td>3.56</td>\n",
       "      <td>AR</td>\n",
       "      <td>1593874800</td>\n",
       "    </tr>\n",
       "    <tr>\n",
       "      <th>4</th>\n",
       "      <td>Saint-Augustin</td>\n",
       "      <td>51.2260</td>\n",
       "      <td>-58.6502</td>\n",
       "      <td>56.86</td>\n",
       "      <td>62</td>\n",
       "      <td>98</td>\n",
       "      <td>8.05</td>\n",
       "      <td>CA</td>\n",
       "      <td>1593874800</td>\n",
       "    </tr>\n",
       "  </tbody>\n",
       "</table>\n",
       "</div>"
      ],
      "text/plain": [
       "             City  Latitude  Longitude  Max Temp  Humidity  Cloudiness  \\\n",
       "0      Alagoinhas  -12.1356   -38.4192     82.72        67           5   \n",
       "1     Grand Gaube  -20.0064    57.6608     72.32        77          64   \n",
       "2           Izhma   65.0083    53.9113     75.02        53          75   \n",
       "3         Ushuaia  -54.8000   -68.3000     30.78        93          54   \n",
       "4  Saint-Augustin   51.2260   -58.6502     56.86        62          98   \n",
       "\n",
       "   Wind Speed Country        Date  \n",
       "0        7.14      BR  1593874800  \n",
       "1       23.67      MU  1593874800  \n",
       "2        6.87      RU  1593874800  \n",
       "3        3.56      AR  1593874800  \n",
       "4        8.05      CA  1593874800  "
      ]
     },
     "execution_count": 7,
     "metadata": {},
     "output_type": "execute_result"
    }
   ],
   "source": [
    "# Convert  and Display the DataFrame\n",
    " \n",
    "weather_data = pd.DataFrame({\n",
    "                        \"City\": cityname,\n",
    "                        \"Latitude\": lat, \n",
    "                        \"Longitude\":lng,\n",
    "                        \"Max Temp\":max_temp,\n",
    "                        \"Humidity\":humidity,\n",
    "                        \"Cloudiness\":cloudiness,\n",
    "                        \"Wind Speed\":wind_speed,\n",
    "                        \"Country\":country, \n",
    "                        \"Date\":date\n",
    "                        })\n",
    "weather_data.head()"
   ]
  },
  {
   "cell_type": "code",
   "execution_count": 8,
   "metadata": {},
   "outputs": [],
   "source": [
    " #Export to a csv\n",
    "weather_data.to_csv('..\\output_data\\my_weather_data.csv')"
   ]
  },
  {
   "cell_type": "markdown",
   "metadata": {},
   "source": [
    "## Inspect the data and remove the cities where the humidity > 100%.\n",
    "----\n",
    "Skip this step if there are no cities that have humidity > 100%. "
   ]
  },
  {
   "cell_type": "code",
   "execution_count": 9,
   "metadata": {},
   "outputs": [
    {
     "data": {
      "text/html": [
       "<div>\n",
       "<style scoped>\n",
       "    .dataframe tbody tr th:only-of-type {\n",
       "        vertical-align: middle;\n",
       "    }\n",
       "\n",
       "    .dataframe tbody tr th {\n",
       "        vertical-align: top;\n",
       "    }\n",
       "\n",
       "    .dataframe thead th {\n",
       "        text-align: right;\n",
       "    }\n",
       "</style>\n",
       "<table border=\"1\" class=\"dataframe\">\n",
       "  <thead>\n",
       "    <tr style=\"text-align: right;\">\n",
       "      <th></th>\n",
       "      <th>City</th>\n",
       "      <th>Latitude</th>\n",
       "      <th>Longitude</th>\n",
       "      <th>Max Temp</th>\n",
       "      <th>Humidity</th>\n",
       "      <th>Cloudiness</th>\n",
       "      <th>Wind Speed</th>\n",
       "      <th>Country</th>\n",
       "      <th>Date</th>\n",
       "    </tr>\n",
       "  </thead>\n",
       "  <tbody>\n",
       "  </tbody>\n",
       "</table>\n",
       "</div>"
      ],
      "text/plain": [
       "Empty DataFrame\n",
       "Columns: [City, Latitude, Longitude, Max Temp, Humidity, Cloudiness, Wind Speed, Country, Date]\n",
       "Index: []"
      ]
     },
     "execution_count": 9,
     "metadata": {},
     "output_type": "execute_result"
    }
   ],
   "source": [
    "Humidity_Check = weather_data.loc[weather_data[\"Humidity\"] > 100, :]\n",
    "\n",
    "Humidity_Check.head()"
   ]
  },
  {
   "cell_type": "code",
   "execution_count": 10,
   "metadata": {},
   "outputs": [],
   "source": [
    "#  Get the indices of cities that have humidity over 100%.\n",
    "\n",
    "# Skipped as no city with Humidity greater than 100%"
   ]
  },
  {
   "cell_type": "code",
   "execution_count": 11,
   "metadata": {},
   "outputs": [],
   "source": [
    "# Make a new DataFrame equal to the city data to drop all humidity outliers by index.\n",
    "# Passing \"inplace=False\" will make a copy of the city_data DataFrame, which we call \"clean_city_data\".\n",
    "\n",
    "\n",
    "# Skipped as no city with Humidity greater than 100%"
   ]
  },
  {
   "cell_type": "code",
   "execution_count": 12,
   "metadata": {},
   "outputs": [],
   "source": [
    "# Extract relevant fields from the data frame\n",
    "\n",
    "\n",
    "# Export the City_Data into a csv\n",
    "\n",
    "\n",
    "# Skipped as no city with Humidity greater than 100%"
   ]
  },
  {
   "cell_type": "markdown",
   "metadata": {},
   "source": [
    "## Plotting the Data\n",
    "* Use proper labeling of the plots using plot titles (including date of analysis) and axes labels.\n",
    "* Save the plotted figures as .pngs."
   ]
  },
  {
   "cell_type": "markdown",
   "metadata": {},
   "source": [
    "## Latitude vs. Temperature Plot"
   ]
  },
  {
   "cell_type": "code",
   "execution_count": 13,
   "metadata": {
    "scrolled": true
   },
   "outputs": [
    {
     "data": {
      "image/png": "[encoded data removed]",
      "text/plain": [
       "<Figure size 432x288 with 1 Axes>"
      ]
     },
     "metadata": {
      "needs_background": "light"
     },
     "output_type": "display_data"
    }
   ],
   "source": [
    "#Latitude vs. Temperature Plot\n",
    "\n",
    "plt.scatter(weather_data[\"Latitude\"], weather_data[\"Max Temp\"], Color = \"r\")\n",
    "plt.title('City Latitude vs. Max Temperature')\n",
    "plt.xlabel('Latitude')\n",
    "plt.ylabel('Max Temperature (F)')\n",
    "\n",
    "plt.savefig('..\\output_data\\City Latitude vs Max Temperature.png')\n",
    "\n",
    "plt.show()"
   ]
  },
  {
   "cell_type": "markdown",
   "metadata": {},
   "source": [
    "# Latitude vs. Humidity Plot"
   ]
  },
  {
   "cell_type": "code",
   "execution_count": 14,
   "metadata": {},
   "outputs": [
    {
     "data": {
      "image/png": "[encoded data removed]",
      "text/plain": [
       "<Figure size 432x288 with 1 Axes>"
      ]
     },
     "metadata": {
      "needs_background": "light"
     },
     "output_type": "display_data"
    }
   ],
   "source": [
    "#Latitude vs. Humidity Plot\n",
    "\n",
    "plt.scatter(weather_data[\"Latitude\"], weather_data[\"Humidity\"], Color = \"b\")\n",
    "plt.title('City Latitude vs. Humidity')\n",
    "plt.xlabel('Latitude')\n",
    "plt.ylabel('Humidity (%)')\n",
    "\n",
    "plt.savefig('..\\output_data\\City Latitude vs Humidity.png')\n",
    "\n",
    "plt.show()"
   ]
  },
  {
   "cell_type": "markdown",
   "metadata": {},
   "source": [
    "## Latitude vs. Cloudiness Plot"
   ]
  },
  {
   "cell_type": "code",
   "execution_count": 15,
   "metadata": {},
   "outputs": [
    {
     "data": {
      "image/png": "[encoded data removed]",
      "text/plain": [
       "<Figure size 432x288 with 1 Axes>"
      ]
     },
     "metadata": {
      "needs_background": "light"
     },
     "output_type": "display_data"
    }
   ],
   "source": [
    "# Latitude vs. Cloudiness Plot\n",
    "\n",
    "plt.scatter(weather_data[\"Latitude\"], weather_data[\"Cloudiness\"], Color = \"g\")\n",
    "plt.title('City Latitude vs. Cloudiness')\n",
    "plt.xlabel('Latitude')\n",
    "plt.ylabel('Cloudiness')\n",
    "\n",
    "plt.savefig('..\\output_data\\City Latitude vs Cloudiness.png')\n",
    "\n",
    "plt.show()"
   ]
  },
  {
   "cell_type": "markdown",
   "metadata": {},
   "source": [
    "## Latitude vs. Wind Speed Plot"
   ]
  },
  {
   "cell_type": "code",
   "execution_count": 16,
   "metadata": {},
   "outputs": [
    {
     "data": {
      "image/png": "[encoded data removed]",
      "text/plain": [
       "<Figure size 432x288 with 1 Axes>"
      ]
     },
     "metadata": {
      "needs_background": "light"
     },
     "output_type": "display_data"
    }
   ],
   "source": [
    "# Latitude vs. Wind Speed Plot\n",
    "\n",
    "plt.scatter(weather_data[\"Latitude\"], weather_data[\"Wind Speed\"], Color = \"y\")\n",
    "plt.title('City Latitude vs. Wind Speed')\n",
    "plt.xlabel('Latitude')\n",
    "plt.ylabel('Wind Speed')\n",
    "\n",
    "plt.savefig('..\\output_data\\City Latitude vs Wind Speed.png')\n",
    "\n",
    "plt.show()"
   ]
  },
  {
   "cell_type": "markdown",
   "metadata": {},
   "source": [
    "## Linear Regression"
   ]
  },
  {
   "cell_type": "code",
   "execution_count": 17,
   "metadata": {},
   "outputs": [],
   "source": [
    "# OPTIONAL: Create a function to create Linear Regression plots\n",
    "\n",
    "\n",
    "def plot_linear_regression(x_values, y_values, title, text_coordinates):\n",
    "    (slope, intercept, rvalue, pvalue, stderr) = linregress(x_values, y_values)\n",
    "    regress_values = x_values * slope + intercept\n",
    "    line_eq = \"y = \" + str(round(slope,2)) + \"x + \" + str(round(intercept,2))\n",
    "    \n",
    "    plt.scatter(x_values,y_values)\n",
    "    plt.plot(x_values,regress_values,\"r-\")\n",
    "    plt.annotate(line_eq,text_coordinates,fontsize=14,color=\"red\")\n",
    "    plt.xlabel(\"Latitude\")\n",
    "    plt.ylabel(title)\n",
    "    print(f\"The r-squared is: {rvalue}\")\n",
    "  \n",
    "    "
   ]
  },
  {
   "cell_type": "code",
   "execution_count": 18,
   "metadata": {},
   "outputs": [
    {
     "data": {
      "text/html": [
       "<div>\n",
       "<style scoped>\n",
       "    .dataframe tbody tr th:only-of-type {\n",
       "        vertical-align: middle;\n",
       "    }\n",
       "\n",
       "    .dataframe tbody tr th {\n",
       "        vertical-align: top;\n",
       "    }\n",
       "\n",
       "    .dataframe thead th {\n",
       "        text-align: right;\n",
       "    }\n",
       "</style>\n",
       "<table border=\"1\" class=\"dataframe\">\n",
       "  <thead>\n",
       "    <tr style=\"text-align: right;\">\n",
       "      <th></th>\n",
       "      <th>City</th>\n",
       "      <th>Latitude</th>\n",
       "      <th>Longitude</th>\n",
       "      <th>Max Temp</th>\n",
       "      <th>Humidity</th>\n",
       "      <th>Cloudiness</th>\n",
       "      <th>Wind Speed</th>\n",
       "      <th>Country</th>\n",
       "      <th>Date</th>\n",
       "    </tr>\n",
       "  </thead>\n",
       "  <tbody>\n",
       "    <tr>\n",
       "      <th>2</th>\n",
       "      <td>Izhma</td>\n",
       "      <td>65.0083</td>\n",
       "      <td>53.9113</td>\n",
       "      <td>75.02</td>\n",
       "      <td>53</td>\n",
       "      <td>75</td>\n",
       "      <td>6.87</td>\n",
       "      <td>RU</td>\n",
       "      <td>1593874800</td>\n",
       "    </tr>\n",
       "    <tr>\n",
       "      <th>4</th>\n",
       "      <td>Saint-Augustin</td>\n",
       "      <td>51.2260</td>\n",
       "      <td>-58.6502</td>\n",
       "      <td>56.86</td>\n",
       "      <td>62</td>\n",
       "      <td>98</td>\n",
       "      <td>8.05</td>\n",
       "      <td>CA</td>\n",
       "      <td>1593874800</td>\n",
       "    </tr>\n",
       "    <tr>\n",
       "      <th>6</th>\n",
       "      <td>Brønnøysund</td>\n",
       "      <td>65.4625</td>\n",
       "      <td>12.1997</td>\n",
       "      <td>54.55</td>\n",
       "      <td>64</td>\n",
       "      <td>29</td>\n",
       "      <td>14.38</td>\n",
       "      <td>NO</td>\n",
       "      <td>1593874800</td>\n",
       "    </tr>\n",
       "    <tr>\n",
       "      <th>7</th>\n",
       "      <td>High Level</td>\n",
       "      <td>58.5169</td>\n",
       "      <td>-117.1360</td>\n",
       "      <td>54.68</td>\n",
       "      <td>98</td>\n",
       "      <td>95</td>\n",
       "      <td>5.41</td>\n",
       "      <td>CA</td>\n",
       "      <td>1593874800</td>\n",
       "    </tr>\n",
       "    <tr>\n",
       "      <th>8</th>\n",
       "      <td>Tuktoyaktuk</td>\n",
       "      <td>69.4541</td>\n",
       "      <td>-133.0374</td>\n",
       "      <td>35.37</td>\n",
       "      <td>98</td>\n",
       "      <td>95</td>\n",
       "      <td>13.56</td>\n",
       "      <td>CA</td>\n",
       "      <td>1593874800</td>\n",
       "    </tr>\n",
       "  </tbody>\n",
       "</table>\n",
       "</div>"
      ],
      "text/plain": [
       "             City  Latitude  Longitude  Max Temp  Humidity  Cloudiness  \\\n",
       "2           Izhma   65.0083    53.9113     75.02        53          75   \n",
       "4  Saint-Augustin   51.2260   -58.6502     56.86        62          98   \n",
       "6     Brønnøysund   65.4625    12.1997     54.55        64          29   \n",
       "7      High Level   58.5169  -117.1360     54.68        98          95   \n",
       "8     Tuktoyaktuk   69.4541  -133.0374     35.37        98          95   \n",
       "\n",
       "   Wind Speed Country        Date  \n",
       "2        6.87      RU  1593874800  \n",
       "4        8.05      CA  1593874800  \n",
       "6       14.38      NO  1593874800  \n",
       "7        5.41      CA  1593874800  \n",
       "8       13.56      CA  1593874800  "
      ]
     },
     "execution_count": 18,
     "metadata": {},
     "output_type": "execute_result"
    }
   ],
   "source": [
    "# Create Northern and Southern Hemisphere DataFrames\n",
    "\n",
    "northlat_df = weather_data.loc[weather_data[\"Latitude\"] >= 0,:]\n",
    "southlat_df = weather_data.loc[weather_data[\"Latitude\"] < 0,:]\n",
    "\n",
    "northlat_df.head()"
   ]
  },
  {
   "cell_type": "markdown",
   "metadata": {},
   "source": [
    "####  Northern Hemisphere - Max Temp vs. Latitude Linear Regression"
   ]
  },
  {
   "cell_type": "code",
   "execution_count": 19,
   "metadata": {},
   "outputs": [
    {
     "name": "stdout",
     "output_type": "stream",
     "text": [
      "The r-squared is: -0.678429536484986\n"
     ]
    },
    {
     "data": {
      "image/png": "[encoded data removed]",
      "text/plain": [
       "<Figure size 432x288 with 1 Axes>"
      ]
     },
     "metadata": {
      "needs_background": "light"
     },
     "output_type": "display_data"
    },
    {
     "data": {
      "text/plain": [
       "<Figure size 432x288 with 0 Axes>"
      ]
     },
     "metadata": {},
     "output_type": "display_data"
    }
   ],
   "source": [
    "x_values = northlat_df[\"Latitude\"]\n",
    "y_values = northlat_df[\"Max Temp\"]\n",
    "plot_linear_regression(x_values,y_values,'Max Temp',(8,50))\n",
    "plt.show()\n",
    "plt.savefig('..\\output_data\\HM Nothern - Max Temp vs. Latitude Linear Regression.png')"
   ]
  },
  {
   "cell_type": "markdown",
   "metadata": {},
   "source": [
    "####  Southern Hemisphere - Max Temp vs. Latitude Linear Regression"
   ]
  },
  {
   "cell_type": "code",
   "execution_count": 20,
   "metadata": {},
   "outputs": [
    {
     "name": "stdout",
     "output_type": "stream",
     "text": [
      "The r-squared is: 0.8373071246582093\n"
     ]
    },
    {
     "data": {
      "image/png": "[encoded data removed]",
      "text/plain": [
       "<Figure size 432x288 with 1 Axes>"
      ]
     },
     "metadata": {
      "needs_background": "light"
     },
     "output_type": "display_data"
    }
   ],
   "source": [
    "x_values = southlat_df[\"Latitude\"]\n",
    "y_values = southlat_df[\"Max Temp\"]\n",
    "plot_linear_regression(x_values,y_values,'Max Temp',(8,50))\n",
    "\n",
    "plt.savefig('..\\output_data\\Southern Hemisphere - Max Temp vs. Latitude Linear Regression.png')\n"
   ]
  },
  {
   "cell_type": "markdown",
   "metadata": {},
   "source": [
    "####  Northern Hemisphere - Humidity (%) vs. Latitude Linear Regression"
   ]
  },
  {
   "cell_type": "code",
   "execution_count": 21,
   "metadata": {},
   "outputs": [
    {
     "name": "stdout",
     "output_type": "stream",
     "text": [
      "The r-squared is: 0.012348262282148368\n"
     ]
    },
    {
     "data": {
      "image/png": "[encoded data removed]",
      "text/plain": [
       "<Figure size 432x288 with 1 Axes>"
      ]
     },
     "metadata": {
      "needs_background": "light"
     },
     "output_type": "display_data"
    }
   ],
   "source": [
    "\n",
    "x_values = northlat_df[\"Latitude\"]\n",
    "y_values = northlat_df[\"Humidity\"]\n",
    "plot_linear_regression(x_values,y_values,'Humidity',(6,30))\n",
    "\n",
    "\n",
    "plt.savefig('..\\output_data\\Hemisphere Northern - Humidity (%) vs. Latitude Linear Regression.png')"
   ]
  },
  {
   "cell_type": "markdown",
   "metadata": {},
   "source": [
    "####  Southern Hemisphere - Humidity (%) vs. Latitude Linear Regression"
   ]
  },
  {
   "cell_type": "code",
   "execution_count": 22,
   "metadata": {},
   "outputs": [
    {
     "name": "stdout",
     "output_type": "stream",
     "text": [
      "The r-squared is: -0.12888787557557663\n"
     ]
    },
    {
     "data": {
      "image/png": "[encoded data removed]",
      "text/plain": [
       "<Figure size 432x288 with 1 Axes>"
      ]
     },
     "metadata": {
      "needs_background": "light"
     },
     "output_type": "display_data"
    }
   ],
   "source": [
    "x_values = southlat_df[\"Latitude\"]\n",
    "y_values = southlat_df[\"Humidity\"]\n",
    "plot_linear_regression(x_values,y_values,'Humidity',(8,50))\n",
    "\n",
    "plt.savefig('..\\output_data\\Southern Hemisphere - Humidity (%) vs. Latitude Linear Regression.png')"
   ]
  },
  {
   "cell_type": "markdown",
   "metadata": {},
   "source": [
    "####  Northern Hemisphere - Cloudiness (%) vs. Latitude Linear Regression"
   ]
  },
  {
   "cell_type": "code",
   "execution_count": 23,
   "metadata": {},
   "outputs": [
    {
     "name": "stdout",
     "output_type": "stream",
     "text": [
      "The r-squared is: -0.005657220893867302\n"
     ]
    },
    {
     "data": {
      "image/png": "[encoded data removed]",
      "text/plain": [
       "<Figure size 432x288 with 1 Axes>"
      ]
     },
     "metadata": {
      "needs_background": "light"
     },
     "output_type": "display_data"
    }
   ],
   "source": [
    "x_values = northlat_df[\"Latitude\"]\n",
    "y_values = northlat_df[\"Cloudiness\"]\n",
    "plot_linear_regression(x_values,y_values,'Cloudiness',(6,30))\n",
    "\n",
    "plt.savefig('..\\output_data\\Hemisphere Northern - Cloudiness (%) vs. Latitude Linear Regression.png')"
   ]
  },
  {
   "cell_type": "markdown",
   "metadata": {},
   "source": [
    "####  Southern Hemisphere - Cloudiness (%) vs. Latitude Linear Regression"
   ]
  },
  {
   "cell_type": "code",
   "execution_count": 24,
   "metadata": {},
   "outputs": [
    {
     "name": "stdout",
     "output_type": "stream",
     "text": [
      "The r-squared is: -0.10359711843714549\n"
     ]
    },
    {
     "data": {
      "image/png": "[encoded data removed]",
      "text/plain": [
       "<Figure size 432x288 with 1 Axes>"
      ]
     },
     "metadata": {
      "needs_background": "light"
     },
     "output_type": "display_data"
    }
   ],
   "source": [
    "x_values = southlat_df[\"Latitude\"]\n",
    "y_values = southlat_df[\"Cloudiness\"]\n",
    "plot_linear_regression(x_values,y_values,'Cloudiness',(8,50))\n",
    "\n",
    "plt.savefig('..\\output_data\\Southern Hemisphere - Cloudiness (%) vs. Latitude Linear Regression.png')"
   ]
  },
  {
   "cell_type": "markdown",
   "metadata": {},
   "source": [
    "####  Northern Hemisphere - Wind Speed (mph) vs. Latitude Linear Regression"
   ]
  },
  {
   "cell_type": "code",
   "execution_count": 25,
   "metadata": {},
   "outputs": [
    {
     "name": "stdout",
     "output_type": "stream",
     "text": [
      "The r-squared is: 0.006209646120918814\n"
     ]
    },
    {
     "data": {
      "image/png": "[encoded data removed]",
      "text/plain": [
       "<Figure size 432x288 with 1 Axes>"
      ]
     },
     "metadata": {
      "needs_background": "light"
     },
     "output_type": "display_data"
    }
   ],
   "source": [
    "x_values = northlat_df[\"Latitude\"]\n",
    "y_values = northlat_df[\"Wind Speed\"]\n",
    "plot_linear_regression(x_values,y_values,'Wind Speed',(6,30))\n",
    "\n",
    "\n",
    "plt.savefig('..\\output_data\\Hemisphere Northern- Wind Speed (mph) vs. Latitude Linear Regression.png')"
   ]
  },
  {
   "cell_type": "markdown",
   "metadata": {},
   "source": [
    "####  Southern Hemisphere - Wind Speed (mph) vs. Latitude Linear Regression"
   ]
  },
  {
   "cell_type": "code",
   "execution_count": 26,
   "metadata": {},
   "outputs": [
    {
     "name": "stdout",
     "output_type": "stream",
     "text": [
      "The r-squared is: 0.03442347408697292\n"
     ]
    },
    {
     "data": {
      "image/png": "[encoded data removed]",
      "text/plain": [
       "<Figure size 432x288 with 1 Axes>"
      ]
     },
     "metadata": {
      "needs_background": "light"
     },
     "output_type": "display_data"
    }
   ],
   "source": [
    "x_values = southlat_df[\"Latitude\"]\n",
    "y_values = southlat_df[\"Wind Speed\"]\n",
    "plot_linear_regression(x_values,y_values,'Wind Speed',(6,30))\n",
    "\n",
    "\n",
    "plt.savefig('..\\output_data\\Southern Hemisphere - Wind Speed (mph) vs. Latitude Linear Regression.png')"
   ]
  },
  {
   "cell_type": "code",
   "execution_count": 27,
   "metadata": {},
   "outputs": [
    {
     "name": "stdout",
     "output_type": "stream",
     "text": [
      "Hurray! Completed all plots.\n"
     ]
    }
   ],
   "source": [
    "print(\"Hurray! Completed all plots.\")"
   ]
  },
  {
   "cell_type": "code",
   "execution_count": null,
   "metadata": {},
   "outputs": [],
   "source": []
  }
 ],
 "metadata": {
  "anaconda-cloud": {},
  "kernel_info": {
   "name": "python3"
  },
  "kernelspec": {
   "display_name": "Python [conda env:root] *",
   "language": "python",
   "name": "conda-root-py"
  },
  "language_info": {
   "codemirror_mode": {
    "name": "ipython",
    "version": 3
   },
   "file_extension": ".py",
   "mimetype": "text/x-python",
   "name": "python",
   "nbconvert_exporter": "python",
   "pygments_lexer": "ipython3",
   "version": "3.7.6"
  },
  "latex_envs": {
   "LaTeX_envs_menu_present": true,
   "autoclose": false,
   "autocomplete": true,
   "bibliofile": "biblio.bib",
   "cite_by": "apalike",
   "current_citInitial": 1,
   "eqLabelWithNumbers": true,
   "eqNumInitial": 1,
   "hotkeys": {
    "equation": "Ctrl-E",
    "itemize": "Ctrl-I"
   },
   "labels_anchors": false,
   "latex_user_defs": false,
   "report_style_numbering": false,
   "user_envs_cfg": false
  },
  "nteract": {
   "version": "0.12.3"
  }
 },
 "nbformat": 4,
 "nbformat_minor": 2
}
